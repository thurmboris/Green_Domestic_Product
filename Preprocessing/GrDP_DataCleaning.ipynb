{
  "nbformat": 4,
  "nbformat_minor": 0,
  "metadata": {
    "colab": {
      "provenance": []
    },
    "kernelspec": {
      "name": "python3",
      "display_name": "Python 3"
    },
    "language_info": {
      "name": "python"
    }
  },
  "cells": [
    {
      "cell_type": "code",
      "execution_count": null,
      "metadata": {
        "id": "wGCnBVPgVtTL",
        "colab": {
          "base_uri": "https://localhost:8080/"
        },
        "outputId": "1c771d1c-b91d-4967-a8f7-bf9a162f0fb5"
      },
      "outputs": [
        {
          "output_type": "stream",
          "name": "stdout",
          "text": [
            "Collecting eurostat\n",
            "  Downloading eurostat-1.1.0-py3-none-any.whl (15 kB)\n",
            "Requirement already satisfied: pandas in /usr/local/lib/python3.10/dist-packages (from eurostat) (1.5.3)\n",
            "Requirement already satisfied: requests in /usr/local/lib/python3.10/dist-packages (from eurostat) (2.31.0)\n",
            "Requirement already satisfied: python-dateutil>=2.8.1 in /usr/local/lib/python3.10/dist-packages (from pandas->eurostat) (2.8.2)\n",
            "Requirement already satisfied: pytz>=2020.1 in /usr/local/lib/python3.10/dist-packages (from pandas->eurostat) (2023.4)\n",
            "Requirement already satisfied: numpy>=1.21.0 in /usr/local/lib/python3.10/dist-packages (from pandas->eurostat) (1.25.2)\n",
            "Requirement already satisfied: charset-normalizer<4,>=2 in /usr/local/lib/python3.10/dist-packages (from requests->eurostat) (3.3.2)\n",
            "Requirement already satisfied: idna<4,>=2.5 in /usr/local/lib/python3.10/dist-packages (from requests->eurostat) (3.6)\n",
            "Requirement already satisfied: urllib3<3,>=1.21.1 in /usr/local/lib/python3.10/dist-packages (from requests->eurostat) (2.0.7)\n",
            "Requirement already satisfied: certifi>=2017.4.17 in /usr/local/lib/python3.10/dist-packages (from requests->eurostat) (2024.2.2)\n",
            "Requirement already satisfied: six>=1.5 in /usr/local/lib/python3.10/dist-packages (from python-dateutil>=2.8.1->pandas->eurostat) (1.16.0)\n",
            "Installing collected packages: eurostat\n",
            "Successfully installed eurostat-1.1.0\n"
          ]
        }
      ],
      "source": [
        "import pandas as pd\n",
        "!pip install eurostat\n",
        "import eurostat\n",
        "import numpy as np"
      ]
    },
    {
      "cell_type": "markdown",
      "source": [
        "# Territorial GHG"
      ],
      "metadata": {
        "id": "Gfl-mG3gChi0"
      }
    },
    {
      "cell_type": "markdown",
      "source": [
        "## Information about dataset\n",
        "\n",
        "Territorial emissions: all emissions from residents and non-residents inside a country.\n",
        "\n",
        "Dataset: ENV_AIR_GGE\n",
        "https://ec.europa.eu/eurostat/databrowser/view/ENV_AIR_GGE/default/table?lang=en\n",
        "\n",
        "Source: EUROSTAT\n",
        "\n",
        "Frequency of measure: Annual\n",
        "\n",
        "Unit: Million tonnes\n",
        "-> we convert the values to tonnes\n",
        "\n",
        "Values: Greenhouse gases (CO2, N2O in CO2 equivalent, CH4 in CO2 equivalent, HFC in CO2 equivalent, PFC in CO2 equivalent, SF6 in CO2 equivalent, NF3 in CO2 equivalent)\n",
        "\n",
        "Sector: total net emissions per country (excluding memo items)"
      ],
      "metadata": {
        "id": "0VtZPL_vIfWr"
      }
    },
    {
      "cell_type": "code",
      "source": [
        "GHG_territorial = eurostat.get_data_df('env_air_gge')"
      ],
      "metadata": {
        "id": "_g5_Cs5YCWvp"
      },
      "execution_count": null,
      "outputs": []
    },
    {
      "cell_type": "code",
      "source": [
        "# We rename the columns to make them more understandable\n",
        "GHG_territorial = GHG_territorial.rename(columns={'src_crf': 'sector', 'geo\\TIME_PERIOD': 'countries'})\n",
        "\n",
        "# We focus our analysis on the total net emissions per country: Total (excluding memo items)\n",
        "GHG_territorial = GHG_territorial.loc[GHG_territorial.sector == 'TOTXMEMO']\n",
        "\n",
        "# We consider total GHG emissions\n",
        "GHG_territorial = GHG_territorial.loc[GHG_territorial.airpol == 'GHG']\n",
        "\n",
        "# We only need one unit, we will use: Million tonnes\n",
        "GHG_territorial = GHG_territorial.loc[GHG_territorial.unit == 'MIO_T']"
      ],
      "metadata": {
        "id": "hdm4bEmDAPSy"
      },
      "execution_count": null,
      "outputs": []
    },
    {
      "cell_type": "code",
      "source": [
        "# We put the years in rows and create a new column containing the values\n",
        "# This is done to facilitate the creation of a merged dataset containing all the data\n",
        "GHG_territorial = GHG_territorial.melt(id_vars=['freq', 'unit', 'airpol', 'sector', 'countries'], var_name=\"Year\", value_name=\"GHG\")\n",
        "\n",
        "# We only include in the dataset the important columns\n",
        "# This will make the merging of all the datasets easier\n",
        "GHG_territorial = GHG_territorial.loc[:,['countries','Year','GHG']]"
      ],
      "metadata": {
        "id": "lN3SxCz6F-UU"
      },
      "execution_count": null,
      "outputs": []
    },
    {
      "cell_type": "code",
      "source": [
        "GHG_territorial['GHG']"
      ],
      "metadata": {
        "colab": {
          "base_uri": "https://localhost:8080/"
        },
        "id": "FxAKcwuDB99C",
        "outputId": "0ea8fdc4-01ec-4dbd-f299-dabf559a44a7"
      },
      "execution_count": null,
      "outputs": [
        {
          "output_type": "execute_result",
          "data": {
            "text/plain": [
              "0            NaN\n",
              "1            NaN\n",
              "2            NaN\n",
              "3            NaN\n",
              "4            NaN\n",
              "          ...   \n",
              "1142    50.50278\n",
              "1143    66.14473\n",
              "1144     6.10587\n",
              "1145    13.00072\n",
              "1146    33.61233\n",
              "Name: GHG, Length: 1147, dtype: float64"
            ]
          },
          "metadata": {},
          "execution_count": 5
        }
      ]
    },
    {
      "cell_type": "code",
      "source": [
        "# We convert the unit from million tonnes to tonnes\n",
        "GHG_territorial['GHG'] = GHG_territorial['GHG'] * 1e6\n",
        "\n",
        "# We include the unit in the name of the column:\n",
        "GHG_territorial = GHG_territorial.rename(columns={'GHG': 'Territorial GHG emissions [t]'})"
      ],
      "metadata": {
        "id": "vFdZuChEI_PU"
      },
      "execution_count": null,
      "outputs": []
    },
    {
      "cell_type": "markdown",
      "source": [
        "# Residential GHG"
      ],
      "metadata": {
        "id": "j__40KW5IxBa"
      }
    },
    {
      "cell_type": "markdown",
      "source": [
        "## Information about dataset\n",
        "\n",
        "Residential emissions: all emissions resulting from the activities of a\n",
        "country’s residents, including the ones abroad.\n",
        "\n",
        "Dataset: env_ac_ainah_r2\n",
        "\n",
        "https://ec.europa.eu/eurostat/databrowser/view/ENV_AC_AINAH_R2/default/table?lang=en\n",
        "\n",
        "Source: EUROSTAT\n",
        "\n",
        "Frequency of measure: Annual\n",
        "\n",
        "Unit: tonnes\n",
        "\n",
        "Values: Greenhouse gases (CO2, N2O in CO2 equivalent, CH4 in CO2 equivalent, HFC in CO2 equivalent, PFC in CO2 equivalent, SF6 in CO2 equivalent, NF3 in CO2 equivalent)\n",
        "\n",
        "Sector: All NACE (Nomenclature of Economic Activities) activities plus households"
      ],
      "metadata": {
        "id": "1JcOXhBPljJ5"
      }
    },
    {
      "cell_type": "code",
      "source": [
        "GHG_residential = eurostat.get_data_df('env_ac_ainah_r2')"
      ],
      "metadata": {
        "id": "K5lji2q_Iy0x"
      },
      "execution_count": null,
      "outputs": []
    },
    {
      "cell_type": "code",
      "source": [
        "# We rename the columns to make them more understandable\n",
        "GHG_residential = GHG_residential.rename(columns={'nace_r2': 'sector', 'geo\\TIME_PERIOD': 'countries'})\n",
        "\n",
        "# We focus our analysis on the total net emissions per country: Total (excluding memo items)\n",
        "GHG_residential = GHG_residential.loc[GHG_residential.sector == 'TOTAL_HH']\n",
        "\n",
        "# We consider total GHG emissions\n",
        "GHG_residential = GHG_residential.loc[GHG_residential.airpol == 'GHG']\n",
        "\n",
        "# We only need one unit, we will use: Million tonnes\n",
        "GHG_residential = GHG_residential.loc[GHG_residential.unit == 'T']"
      ],
      "metadata": {
        "id": "n8sqlAzCKGvs"
      },
      "execution_count": null,
      "outputs": []
    },
    {
      "cell_type": "code",
      "source": [
        "# We put the years in rows and create a new column containing the values\n",
        "# This is done to facilitate the creation of a merged dataset containing all the data\n",
        "GHG_residential = GHG_residential.melt(id_vars=['freq', 'unit', 'airpol', 'sector', 'countries'], var_name=\"Year\", value_name=\"GHG\")\n",
        "\n",
        "# We only include in the dataset the important columns\n",
        "# This will make the merging of all the datasets easier\n",
        "GHG_residential = GHG_residential.loc[:,['countries','Year','GHG']]"
      ],
      "metadata": {
        "id": "_pDnOStYK7Ot"
      },
      "execution_count": null,
      "outputs": []
    },
    {
      "cell_type": "code",
      "source": [
        "GHG_residential = GHG_residential.rename(columns={'GHG': 'Residential GHG emissions [t]'})"
      ],
      "metadata": {
        "id": "TGyfB5zzUlEG"
      },
      "execution_count": null,
      "outputs": []
    },
    {
      "cell_type": "markdown",
      "source": [
        "# Footprint emissions"
      ],
      "metadata": {
        "id": "sDrxkv5hjmIo"
      }
    },
    {
      "cell_type": "markdown",
      "source": [
        "## Information about dataset\n",
        "\n",
        "Transfer Emissions: The net difference between territorial and consumption emissions; representing the emissions from the production of exports minus the emissions from the production of imports.\n",
        "\n",
        "Footprint Emissions: Residential Emissions - Transfer Emissions\n",
        "\n",
        "Source: Global Carbon Atlas & EUROSTAT\n",
        "\n",
        "https://ec.europa.eu/eurostat/databrowser/view/ENV_AC_AINAH_R2/default/table?lang=en\n",
        "\n",
        "https://globalcarbonatlas.org/emissions/carbon-emissions/"
      ],
      "metadata": {
        "id": "UVYKzwFqjn_5"
      }
    },
    {
      "cell_type": "code",
      "source": [
        "GHG_transfer = pd.read_excel('https://raw.githubusercontent.com/AntoineTrabia/Green-Domestic-Product/main/data/Transfer_emissions.xlsx')"
      ],
      "metadata": {
        "id": "0XRanD-jnaC8"
      },
      "execution_count": null,
      "outputs": []
    },
    {
      "cell_type": "code",
      "source": [
        "GHG_transfer.rename(columns={'Czech Republic': 'Czechia'}, inplace=True)\n",
        "\n",
        "GHG_transfer = pd.melt(GHG_transfer, id_vars=['Year'], var_name='countries', value_name='Transfer GHG emissions [Mt]')\n",
        "\n",
        "# We convert the unit from million tonnes to tonnes\n",
        "GHG_transfer['Transfer GHG emissions [Mt]'] = GHG_transfer['Transfer GHG emissions [Mt]'] * 1e6\n",
        "\n",
        "# We convert the unit in the name of the column:\n",
        "GHG_transfer = GHG_transfer.rename(columns={'Transfer GHG emissions [Mt]': 'Transfer GHG emissions [t]'})\n",
        "\n",
        "# We convert the column with countries to ensure that the format is the same as for the eurostat datasets:\n",
        "country_mapping = {\n",
        "    'Austria': 'AT',\n",
        "    'Luxembourg': 'LU',\n",
        "    'Switzerland': 'CH',\n",
        "    'Belgium': 'BE',\n",
        "    'Bulgaria': 'BG',\n",
        "    'Cyprus': 'CY',\n",
        "    'Czechia': 'CZ',\n",
        "    'Germany': 'DE',\n",
        "    'Denmark': 'DK',\n",
        "    'Estonia': 'EE',\n",
        "    'Greece': 'EL',\n",
        "    'Spain': 'ES',\n",
        "    'European Union - 27 countries (from 2020)': 'EU27_2020',\n",
        "    'Finland': 'FI',\n",
        "    'France': 'FR',\n",
        "    'Croatia': 'HR',\n",
        "    'Hungary': 'HU',\n",
        "    'Ireland': 'IE',\n",
        "    'Iceland': 'IS',\n",
        "    'Italy': 'IT',\n",
        "    'Lithuania': 'LT',\n",
        "    'Latvia': 'LV',\n",
        "    'Malta': 'MT',\n",
        "    'Netherlands': 'NL',\n",
        "    'Norway': 'NO',\n",
        "    'Poland': 'PL',\n",
        "    'Portugal': 'PT',\n",
        "    'Romania': 'RO',\n",
        "    'Sweden': 'SE',\n",
        "    'Slovenia': 'SI',\n",
        "    'Slovakia': 'SK'\n",
        "}\n",
        "# Replace country codes with full names using the dictionary\n",
        "GHG_transfer['countries'].replace(country_mapping, inplace=True)\n",
        "\n",
        "# We convert the Year column from int to str so we can merge this dataset with eurostat\n",
        "GHG_transfer['Year'] = GHG_transfer['Year'].astype(str)"
      ],
      "metadata": {
        "id": "YNEjmPnZ90vA"
      },
      "execution_count": null,
      "outputs": []
    },
    {
      "cell_type": "code",
      "source": [
        "# We use residential emissions and transfer emissions to calculate footprint emissions\n",
        "\n",
        "GHG_footprint = pd.merge(GHG_residential, GHG_transfer, on=['countries','Year'], how='outer').sort_values(['countries','Year'])\n",
        "\n",
        "GHG_footprint['Footprint GHG emissions [t]'] = GHG_footprint['Residential GHG emissions [t]'] - GHG_footprint['Transfer GHG emissions [t]']"
      ],
      "metadata": {
        "id": "GJODIE6cEA2r"
      },
      "execution_count": null,
      "outputs": []
    },
    {
      "cell_type": "markdown",
      "source": [
        "# GDP"
      ],
      "metadata": {
        "id": "8d8ayEjVC0QU"
      }
    },
    {
      "cell_type": "markdown",
      "source": [
        "## Information about dataset\n",
        "\n",
        "Dataset: nama_10_gdp https://ec.europa.eu/eurostat/databrowser/view/nama_10_gdp__custom_10341462/default/table?lang=en\n",
        "\n",
        "Source: EUROSTAT\n",
        "\n",
        "Frequency of measure : Annual\n",
        "\n",
        "Unit: Current prices, million euro\n",
        "\n",
        "National accounts indicator: Gross domestic product at market prices"
      ],
      "metadata": {
        "id": "p-HATZsYJX7E"
      }
    },
    {
      "cell_type": "code",
      "source": [
        "GDP = eurostat.get_data_df('nama_10_gdp')"
      ],
      "metadata": {
        "id": "TLOaE8QpC1wb"
      },
      "execution_count": null,
      "outputs": []
    },
    {
      "cell_type": "code",
      "source": [
        "# We only need one unit, we will use: Current prices, million euro\n",
        "GDP = GDP.loc[GDP.unit == 'CP_MEUR']\n",
        "\n",
        "# As a national accounts indicator we will use: Gross domestic product at market prices\n",
        "GDP = GDP.loc[GDP.na_item == 'B1GQ']\n",
        "\n",
        "# We rename the columns to make them more understandable\n",
        "GDP = GDP.rename(columns={'geo\\TIME_PERIOD': 'countries'})"
      ],
      "metadata": {
        "id": "DwjtIiv-EvdK"
      },
      "execution_count": null,
      "outputs": []
    },
    {
      "cell_type": "code",
      "source": [
        "# We put the years in rows and create a new column containing the values\n",
        "# This is done to facilitate the creation of a merged dataset containing all the data\n",
        "GDP = GDP.melt(id_vars=['freq', 'unit', 'na_item', 'countries'], var_name=\"Year\", value_name=\"GDP\")\n",
        "\n",
        "# We only include in the dataset the important columns\n",
        "# This will make the merging of all the datasets easier\n",
        "GDP = GDP.loc[:,['countries','Year','GDP']]"
      ],
      "metadata": {
        "id": "ymFPIBKIFhIR"
      },
      "execution_count": null,
      "outputs": []
    },
    {
      "cell_type": "code",
      "source": [
        "# We include the unit in the name of the column:\n",
        "GDP = GDP.rename(columns={'GDP': 'GDP [MIO_EURO]'})"
      ],
      "metadata": {
        "id": "ug31Zb35LDDx"
      },
      "execution_count": null,
      "outputs": []
    },
    {
      "cell_type": "markdown",
      "source": [
        "# Population"
      ],
      "metadata": {
        "id": "2yddJ2f9Hmku"
      }
    },
    {
      "cell_type": "markdown",
      "source": [
        "## Information about dataset\n",
        "\n",
        "Dataset: demo_pjan https://ec.europa.eu/eurostat/databrowser/view/demo_pjan/default/table?lang=en\n",
        "\n",
        "Source: EUROSTAT\n",
        "\n",
        "Frequency of measure: Annual\n",
        "\n",
        "Unit: Number\n",
        "\n",
        "Values: Total population"
      ],
      "metadata": {
        "id": "OAeHF7YyJ3-_"
      }
    },
    {
      "cell_type": "code",
      "source": [
        "POP = eurostat.get_data_df('demo_pjan')"
      ],
      "metadata": {
        "id": "MlmuygEpH6Af"
      },
      "execution_count": null,
      "outputs": []
    },
    {
      "cell_type": "code",
      "source": [
        "# We rename the columns to make them more understandable\n",
        "POP = POP.rename(columns={'geo\\TIME_PERIOD': 'countries'})\n",
        "\n",
        "# We have no use for age and sex\n",
        "POP = POP.loc[POP.age == 'TOTAL']\n",
        "POP = POP.loc[POP.sex == 'T']"
      ],
      "metadata": {
        "id": "7dNkAE1sIp_o"
      },
      "execution_count": null,
      "outputs": []
    },
    {
      "cell_type": "code",
      "source": [
        "# We put the years in rows and create a new column containing the values\n",
        "# This is done to facilitate the creation of a merged dataset containing all the data\n",
        "POP = POP.melt(id_vars=[\"freq\", \"unit\", \"age\", \"sex\", \"countries\"], var_name=\"Year\", value_name=\"Population\")\n",
        "\n",
        "# We only include in the dataset the important columns\n",
        "# This will make the merging of all the datasets easier\n",
        "POP = POP.loc[:,['countries','Year','Population']]"
      ],
      "metadata": {
        "id": "foeVCkYxThMT"
      },
      "execution_count": null,
      "outputs": []
    },
    {
      "cell_type": "markdown",
      "source": [
        "# Air pollutants"
      ],
      "metadata": {
        "id": "iNICLx8tJh3N"
      }
    },
    {
      "cell_type": "markdown",
      "source": [
        "## Information about dataset\n",
        "\n",
        "Dataset: ENV_AIR_EMIS https://ec.europa.eu/eurostat/databrowser/view/ENV_AIR_EMIS__custom_773267/default/table?lang=en\n",
        "\n",
        "Source: EUROSTAT\n",
        "\n",
        "Frequency of measure: Annual\n",
        "\n",
        "Unit: Tonne\n",
        "\n",
        "Sector: National total for the entire territory (based on fuel sold)"
      ],
      "metadata": {
        "id": "ePbdNXi4KMrP"
      }
    },
    {
      "cell_type": "code",
      "source": [
        "AirPol = eurostat.get_data_df('env_air_emis')"
      ],
      "metadata": {
        "id": "J6LMqPZ0Jkh1"
      },
      "execution_count": null,
      "outputs": []
    },
    {
      "cell_type": "code",
      "source": [
        "# We rename the columns to make them more understandable\n",
        "AirPol = AirPol.rename(columns={'geo\\TIME_PERIOD': 'countries'})\n",
        "\n",
        "# We focus our analysis on the: National total for the entire territory (based on fuel sold)\n",
        "AirPol = AirPol.loc[AirPol.src_nfr == 'NFR_TOT_NAT']"
      ],
      "metadata": {
        "id": "2oDGy1PYRh2Z"
      },
      "execution_count": null,
      "outputs": []
    },
    {
      "cell_type": "code",
      "source": [
        "# Let's see which air pollutants are included in the dataframe\n",
        "AirPol.airpol.unique()"
      ],
      "metadata": {
        "colab": {
          "base_uri": "https://localhost:8080/"
        },
        "id": "SNBw3-McRBvR",
        "outputId": "455c4ff8-4029-4f73-8582-3abe86421386"
      },
      "execution_count": null,
      "outputs": [
        {
          "output_type": "execute_result",
          "data": {
            "text/plain": [
              "array(['AS', 'CD', 'CO', 'CR', 'CU', 'HG', 'NH3', 'NI', 'NMVOC', 'NOX',\n",
              "       'PB', 'PM10', 'PM2_5', 'SE', 'SOX', 'ZN'], dtype=object)"
            ]
          },
          "metadata": {},
          "execution_count": 24
        }
      ]
    },
    {
      "cell_type": "code",
      "source": [
        "# We put the years in rows and create a new column containing the values\n",
        "# This is done to facilitate the creation of a merged dataset containing all the data\n",
        "AirPol = AirPol.melt(id_vars=[\"freq\", \"unit\", \"airpol\", \"src_nfr\", \"countries\"], var_name=\"Year\", value_name=\"Values\")"
      ],
      "metadata": {
        "id": "KqGS5SKK9X3Q"
      },
      "execution_count": null,
      "outputs": []
    },
    {
      "cell_type": "code",
      "source": [
        "# Here we create a different dataset for each air pollutant in the dataset\n",
        "# This ensures each air pollutant corresponds to a column in the final dataset\n",
        "Arsenic = AirPol.loc[AirPol.airpol == 'AS',['countries','Year','Values']]\n",
        "Carbon_monoxide = AirPol.loc[AirPol.airpol == 'CO',['countries','Year','Values']]\n",
        "Lead = AirPol.loc[AirPol.airpol == 'PB',['countries','Year','Values']]\n",
        "Nitrogen_oxides = AirPol.loc[AirPol.airpol == 'NOX',['countries','Year','Values']]\n",
        "Sulphur_oxides = AirPol.loc[AirPol.airpol == 'SOX',['countries','Year','Values']]\n",
        "Ammonia = AirPol.loc[AirPol.airpol == 'NH3',['countries','Year','Values']]\n",
        "Particulates_2_5 = AirPol.loc[AirPol.airpol == 'PM2_5',['countries','Year','Values']]\n",
        "Particulates_10 = AirPol.loc[AirPol.airpol == 'PM10',['countries','Year','Values']]\n",
        "Non_methane_volatile_organic_compounds = AirPol.loc[AirPol.airpol == 'NMVOC',['countries','Year','Values']]\n",
        "Cadmium = AirPol.loc[AirPol.airpol == 'CD',['countries','Year','Values']]\n",
        "Mercury = AirPol.loc[AirPol.airpol == 'HG',['countries','Year','Values']]\n",
        "Chromium = AirPol.loc[AirPol.airpol == 'CR',['countries','Year','Values']]\n",
        "Copper = AirPol.loc[AirPol.airpol == 'CU',['countries','Year','Values']]\n",
        "Nickel = AirPol.loc[AirPol.airpol == 'NI',['countries','Year','Values']]\n",
        "Selenium = AirPol.loc[AirPol.airpol == 'SE',['countries','Year','Values']]\n",
        "Zinc = AirPol.loc[AirPol.airpol == 'ZN',['countries','Year','Values']]"
      ],
      "metadata": {
        "id": "gF0xYX4NLcyJ"
      },
      "execution_count": null,
      "outputs": []
    },
    {
      "cell_type": "code",
      "source": [
        "# We rename the columns of these datasets\n",
        "# This ensures each column will be recognisable in the final dataset\n",
        "Arsenic.rename(columns={'Values': 'As [t]'}, inplace=True)\n",
        "Carbon_monoxide.rename(columns={'Values': 'CO [t]'}, inplace=True)\n",
        "Lead.rename(columns={'Values': 'Pb [t]'}, inplace=True)\n",
        "Nitrogen_oxides.rename(columns={'Values': 'NOx [t]'}, inplace=True)\n",
        "Sulphur_oxides.rename(columns={'Values': 'SOx [t]'}, inplace=True)\n",
        "Ammonia.rename(columns={'Values': 'NH3 [t]'}, inplace=True)\n",
        "Particulates_2_5.rename(columns={'Values': 'PM2.5 [t]'}, inplace=True)\n",
        "Particulates_10.rename(columns={'Values': 'PM10 [t]'}, inplace=True)\n",
        "Non_methane_volatile_organic_compounds.rename(columns={'Values': 'NMVOC [t]'}, inplace=True)\n",
        "Cadmium.rename(columns={'Values': 'Cd [t]'}, inplace=True)\n",
        "Mercury.rename(columns={'Values': 'Hg [t]'}, inplace=True)\n",
        "Chromium.rename(columns={'Values': 'Cr [t]'}, inplace=True)\n",
        "Copper.rename(columns={'Values': 'Cu [t]'}, inplace=True)\n",
        "Nickel.rename(columns={'Values': 'Ni [t]'}, inplace=True)\n",
        "Selenium.rename(columns={'Values': 'Se [t]'}, inplace=True)\n",
        "Zinc.rename(columns={'Values': 'Zn [t]'}, inplace=True)"
      ],
      "metadata": {
        "id": "NPZ_CtfmAyeo"
      },
      "execution_count": null,
      "outputs": []
    },
    {
      "cell_type": "code",
      "source": [
        "# Let's merge all of these datasets into one final AirPol dataset\n",
        "Airpol_final = pd.merge(Arsenic, Lead, on=['countries','Year'], how='inner')\n",
        "Airpol_final = pd.merge(Airpol_final, Nitrogen_oxides, on=['countries','Year'], how='inner')\n",
        "Airpol_final = pd.merge(Airpol_final, Sulphur_oxides, on=['countries','Year'], how='inner')\n",
        "Airpol_final = pd.merge(Airpol_final, Ammonia, on=['countries','Year'], how='inner')\n",
        "Airpol_final = pd.merge(Airpol_final, Particulates_2_5, on=['countries','Year'], how='inner')\n",
        "Airpol_final = pd.merge(Airpol_final, Particulates_10, on=['countries','Year'], how='inner')\n",
        "Airpol_final = pd.merge(Airpol_final, Non_methane_volatile_organic_compounds, on=['countries','Year'], how='inner')\n",
        "Airpol_final = pd.merge(Airpol_final, Cadmium, on=['countries','Year'], how='inner')\n",
        "Airpol_final = pd.merge(Airpol_final, Mercury, on=['countries','Year'], how='inner')\n",
        "Airpol_final = pd.merge(Airpol_final, Chromium, on=['countries','Year'], how='inner')\n",
        "Airpol_final = pd.merge(Airpol_final, Nickel, on=['countries','Year'], how='inner')"
      ],
      "metadata": {
        "id": "mNB1qA-TIrXD"
      },
      "execution_count": null,
      "outputs": []
    },
    {
      "cell_type": "markdown",
      "source": [
        "# Merging datasets into two final datasets: one for territorial emissions and another for"
      ],
      "metadata": {
        "id": "4vi2F9yWHHVF"
      }
    },
    {
      "cell_type": "code",
      "source": [
        "df_final = pd.merge(GHG_territorial, GHG_footprint, on=['countries','Year'], how='inner')\n",
        "df_final = pd.merge(df_final, GDP, on=['countries','Year'], how='inner')\n",
        "df_final = pd.merge(df_final, POP, on=['countries','Year'], how='inner')\n",
        "df_final = pd.merge(df_final, Airpol_final, on=['countries','Year'], how='inner')"
      ],
      "metadata": {
        "id": "6yK0VKS6HKYl"
      },
      "execution_count": null,
      "outputs": []
    },
    {
      "cell_type": "code",
      "source": [
        "# Define a dictionary mapping country codes to their full names\n",
        "country_mapping = {\n",
        "    'BE': 'Belgium',\n",
        "    'BG': 'Bulgaria',\n",
        "    'CY': 'Cyprus',\n",
        "    'CZ': 'Czechia',\n",
        "    'DE': 'Germany',\n",
        "    'DK': 'Denmark',\n",
        "    'EE': 'Estonia',\n",
        "    'EL': 'Greece',\n",
        "    'ES': 'Spain',\n",
        "    'EU27_2020': 'European Union - 27 countries (from 2020)',\n",
        "    'FI': 'Finland',\n",
        "    'FR': 'France',\n",
        "    'HR': 'Croatia',\n",
        "    'HU': 'Hungary',\n",
        "    'IE': 'Ireland',\n",
        "    'IS': 'Iceland',\n",
        "    'IT': 'Italy',\n",
        "    'LT': 'Lithuania',\n",
        "    'LV': 'Latvia',\n",
        "    'MT': 'Malta',\n",
        "    'NL': 'Netherlands',\n",
        "    'NO': 'Norway',\n",
        "    'PL': 'Poland',\n",
        "    'PT': 'Portugal',\n",
        "    'RO': 'Romania',\n",
        "    'SE': 'Sweden',\n",
        "    'SI': 'Slovenia',\n",
        "    'SK': 'Slovakia'\n",
        "}\n",
        "\n",
        "# Replace country codes with full names using the dictionary\n",
        "df_final['countries'].replace(country_mapping, inplace=True)"
      ],
      "metadata": {
        "id": "R9VUbTxONOWW"
      },
      "execution_count": null,
      "outputs": []
    },
    {
      "cell_type": "markdown",
      "source": [
        "## Treatment of countries with missing values\n",
        "\n",
        "countries: Austria, Luxembourg, Switzerland, Turkey, United Kingdom"
      ],
      "metadata": {
        "id": "OBX0DWwKQrrL"
      }
    },
    {
      "cell_type": "code",
      "source": [
        "datasets = [GDP, POP, GHG_territorial, GHG_footprint, Arsenic, Lead, Nitrogen_oxides, Sulphur_oxides, Ammonia,\n",
        "            Particulates_2_5, Particulates_10, Non_methane_volatile_organic_compounds,\n",
        "            Cadmium, Mercury, Chromium, Nickel]"
      ],
      "metadata": {
        "id": "_ql0o60BRdYQ"
      },
      "execution_count": null,
      "outputs": []
    },
    {
      "cell_type": "code",
      "source": [
        "def test(country_name, dataset):\n",
        "  if country_name in list(dataset.countries.unique()):\n",
        "    print(f'{country_name} in {dataset.columns[2]}')\n",
        "  else:\n",
        "    print(f'{country_name} not in {dataset.columns[2]}')"
      ],
      "metadata": {
        "id": "9Gwl-GHJTNJ0"
      },
      "execution_count": null,
      "outputs": []
    },
    {
      "cell_type": "markdown",
      "source": [
        "### Austria"
      ],
      "metadata": {
        "id": "7m4ROByQRVk_"
      }
    },
    {
      "cell_type": "code",
      "source": [
        "country_name = 'AT'\n",
        "for dataset in datasets:\n",
        "  test(country_name,dataset)"
      ],
      "metadata": {
        "colab": {
          "base_uri": "https://localhost:8080/"
        },
        "id": "WMna9q7bRXNK",
        "outputId": "9bf3f127-ec67-4688-8e54-bb31fcc81437"
      },
      "execution_count": null,
      "outputs": [
        {
          "output_type": "stream",
          "name": "stdout",
          "text": [
            "AT in GDP [MIO_EURO]\n",
            "AT in Population\n",
            "AT in Territorial GHG emissions [t]\n",
            "AT in Residential GHG emissions [t]\n",
            "AT not in As [t]\n",
            "AT in Pb [t]\n",
            "AT in NOx [t]\n",
            "AT in SOx [t]\n",
            "AT in NH3 [t]\n",
            "AT in PM2.5 [t]\n",
            "AT in PM10 [t]\n",
            "AT in NMVOC [t]\n",
            "AT in Cd [t]\n",
            "AT in Hg [t]\n",
            "AT not in Cr [t]\n",
            "AT not in Ni [t]\n"
          ]
        }
      ]
    },
    {
      "cell_type": "markdown",
      "source": [
        "### Luxembourg"
      ],
      "metadata": {
        "id": "preo1Y1gjUpx"
      }
    },
    {
      "cell_type": "code",
      "source": [
        "country_name = 'LU'\n",
        "for dataset in datasets:\n",
        "  test(country_name,dataset)"
      ],
      "metadata": {
        "colab": {
          "base_uri": "https://localhost:8080/"
        },
        "id": "W7T-BMmfjfVG",
        "outputId": "f2850e91-09fb-4c0a-c9f3-f97de510b303"
      },
      "execution_count": null,
      "outputs": [
        {
          "output_type": "stream",
          "name": "stdout",
          "text": [
            "LU in GDP [MIO_EURO]\n",
            "LU in Population\n",
            "LU in Territorial GHG emissions [t]\n",
            "LU in Residential GHG emissions [t]\n",
            "LU not in As [t]\n",
            "LU in Pb [t]\n",
            "LU in NOx [t]\n",
            "LU in SOx [t]\n",
            "LU in NH3 [t]\n",
            "LU in PM2.5 [t]\n",
            "LU in PM10 [t]\n",
            "LU in NMVOC [t]\n",
            "LU in Cd [t]\n",
            "LU in Hg [t]\n",
            "LU not in Cr [t]\n",
            "LU not in Ni [t]\n"
          ]
        }
      ]
    },
    {
      "cell_type": "markdown",
      "source": [
        "### Switzerland"
      ],
      "metadata": {
        "id": "ihPnKG3_jvCl"
      }
    },
    {
      "cell_type": "code",
      "source": [
        "country_name = 'CH'\n",
        "for dataset in datasets:\n",
        "  test(country_name,dataset)"
      ],
      "metadata": {
        "colab": {
          "base_uri": "https://localhost:8080/"
        },
        "id": "ICWSebZfjxGa",
        "outputId": "f61d8124-d202-49e0-abad-42c7b2c75534"
      },
      "execution_count": null,
      "outputs": [
        {
          "output_type": "stream",
          "name": "stdout",
          "text": [
            "CH in GDP [MIO_EURO]\n",
            "CH in Population\n",
            "CH in Territorial GHG emissions [t]\n",
            "CH in Residential GHG emissions [t]\n",
            "CH not in As [t]\n",
            "CH in Pb [t]\n",
            "CH in NOx [t]\n",
            "CH in SOx [t]\n",
            "CH in NH3 [t]\n",
            "CH in PM2.5 [t]\n",
            "CH in PM10 [t]\n",
            "CH in NMVOC [t]\n",
            "CH in Cd [t]\n",
            "CH in Hg [t]\n",
            "CH not in Cr [t]\n",
            "CH not in Ni [t]\n"
          ]
        }
      ]
    },
    {
      "cell_type": "markdown",
      "source": [
        "### United Kingdom"
      ],
      "metadata": {
        "id": "exi-vn6Aj1_L"
      }
    },
    {
      "cell_type": "code",
      "source": [
        "country_name = 'UK'\n",
        "for dataset in datasets:\n",
        "  test(country_name,dataset)"
      ],
      "metadata": {
        "colab": {
          "base_uri": "https://localhost:8080/"
        },
        "id": "2AZMxIrYj59F",
        "outputId": "918b3c5d-8732-4602-b294-6007243fa5e1"
      },
      "execution_count": null,
      "outputs": [
        {
          "output_type": "stream",
          "name": "stdout",
          "text": [
            "UK in GDP [MIO_EURO]\n",
            "UK in Population\n",
            "UK not in Territorial GHG emissions [t]\n",
            "UK not in Residential GHG emissions [t]\n",
            "UK not in As [t]\n",
            "UK not in Pb [t]\n",
            "UK not in NOx [t]\n",
            "UK not in SOx [t]\n",
            "UK not in NH3 [t]\n",
            "UK not in PM2.5 [t]\n",
            "UK not in PM10 [t]\n",
            "UK not in NMVOC [t]\n",
            "UK not in Cd [t]\n",
            "UK not in Hg [t]\n",
            "UK not in Cr [t]\n",
            "UK not in Ni [t]\n"
          ]
        }
      ]
    },
    {
      "cell_type": "markdown",
      "source": [
        "### Turkey"
      ],
      "metadata": {
        "id": "n53cq0OZkL0l"
      }
    },
    {
      "cell_type": "code",
      "source": [
        "country_name = 'TR'\n",
        "for dataset in datasets:\n",
        "  test(country_name,dataset)"
      ],
      "metadata": {
        "colab": {
          "base_uri": "https://localhost:8080/"
        },
        "id": "BGme_T2skNnt",
        "outputId": "70228336-867f-4c9a-9fae-5c6dbc1532bb"
      },
      "execution_count": null,
      "outputs": [
        {
          "output_type": "stream",
          "name": "stdout",
          "text": [
            "TR in GDP [MIO_EURO]\n",
            "TR in Population\n",
            "TR not in Territorial GHG emissions [t]\n",
            "TR not in Residential GHG emissions [t]\n",
            "TR in As [t]\n",
            "TR in Pb [t]\n",
            "TR in NOx [t]\n",
            "TR in SOx [t]\n",
            "TR in NH3 [t]\n",
            "TR in PM2.5 [t]\n",
            "TR in PM10 [t]\n",
            "TR in NMVOC [t]\n",
            "TR in Cd [t]\n",
            "TR in Hg [t]\n",
            "TR in Cr [t]\n",
            "TR in Ni [t]\n"
          ]
        }
      ]
    },
    {
      "cell_type": "markdown",
      "source": [
        "## We can create a dataset that contains AT, CH & LU, by excluding As, Cr & Ni"
      ],
      "metadata": {
        "id": "RHJgu5ehoC_d"
      }
    },
    {
      "cell_type": "code",
      "source": [
        "# Let's merge all of these datasets into one final AirPol dataset\n",
        "Airpol_with_CH = pd.merge(Nitrogen_oxides, Lead, on=['countries','Year'], how='inner')\n",
        "Airpol_with_CH = pd.merge(Airpol_with_CH, Sulphur_oxides, on=['countries','Year'], how='inner')\n",
        "Airpol_with_CH = pd.merge(Airpol_with_CH, Ammonia, on=['countries','Year'], how='inner')\n",
        "Airpol_with_CH = pd.merge(Airpol_with_CH, Particulates_2_5, on=['countries','Year'], how='inner')\n",
        "Airpol_with_CH = pd.merge(Airpol_with_CH, Particulates_10, on=['countries','Year'], how='inner')\n",
        "Airpol_with_CH = pd.merge(Airpol_with_CH, Non_methane_volatile_organic_compounds, on=['countries','Year'], how='inner')\n",
        "Airpol_with_CH = pd.merge(Airpol_with_CH, Cadmium, on=['countries','Year'], how='inner')\n",
        "Airpol_with_CH = pd.merge(Airpol_with_CH, Mercury, on=['countries','Year'], how='inner')"
      ],
      "metadata": {
        "id": "zUmPuUUooNLk"
      },
      "execution_count": null,
      "outputs": []
    },
    {
      "cell_type": "code",
      "source": [
        "df_final_with_CH = pd.merge(GHG_territorial, GHG_footprint, on=['countries','Year'], how='inner')\n",
        "df_final_with_CH = pd.merge(df_final_with_CH, GDP, on=['countries','Year'], how='inner')\n",
        "df_final_with_CH = pd.merge(df_final_with_CH, POP, on=['countries','Year'], how='inner')\n",
        "df_final_with_CH = pd.merge(df_final_with_CH, Airpol_with_CH, on=['countries','Year'], how='inner')"
      ],
      "metadata": {
        "id": "aM6pMdgOpZyt"
      },
      "execution_count": null,
      "outputs": []
    },
    {
      "cell_type": "code",
      "source": [
        "# Define a dictionary mapping country codes to their full names\n",
        "country_mapping = {\n",
        "    'AT': 'Austria',\n",
        "    'LU': 'Luxembourg',\n",
        "    'CH': 'Switzerland',\n",
        "    'BE': 'Belgium',\n",
        "    'BG': 'Bulgaria',\n",
        "    'CY': 'Cyprus',\n",
        "    'CZ': 'Czechia',\n",
        "    'DE': 'Germany',\n",
        "    'DK': 'Denmark',\n",
        "    'EE': 'Estonia',\n",
        "    'EL': 'Greece',\n",
        "    'ES': 'Spain',\n",
        "    'EU27_2020': 'European Union - 27 countries (from 2020)',\n",
        "    'FI': 'Finland',\n",
        "    'FR': 'France',\n",
        "    'HR': 'Croatia',\n",
        "    'HU': 'Hungary',\n",
        "    'IE': 'Ireland',\n",
        "    'IS': 'Iceland',\n",
        "    'IT': 'Italy',\n",
        "    'LT': 'Lithuania',\n",
        "    'LV': 'Latvia',\n",
        "    'MT': 'Malta',\n",
        "    'NL': 'Netherlands',\n",
        "    'NO': 'Norway',\n",
        "    'PL': 'Poland',\n",
        "    'PT': 'Portugal',\n",
        "    'RO': 'Romania',\n",
        "    'SE': 'Sweden',\n",
        "    'SI': 'Slovenia',\n",
        "    'SK': 'Slovakia'\n",
        "}\n",
        "\n",
        "# Replace country codes with full names using the dictionary\n",
        "df_final_with_CH['countries'].replace(country_mapping, inplace=True)"
      ],
      "metadata": {
        "id": "O4phWxa2utT7"
      },
      "execution_count": null,
      "outputs": []
    },
    {
      "cell_type": "code",
      "source": [
        "# We create a Dataset that contains all the data for AT, LU & CH as well as columns with only 0 for As, Ni & Cr\n",
        "df_CHATLU = df_final_with_CH.loc[df_final_with_CH.countries.isin(['Austria','Luxembourg','Switzerland'])]\n",
        "df_CHATLU['As [t]'] = [0] * len(df_CHATLU)\n",
        "df_CHATLU['Ni [t]'] = [0] * len(df_CHATLU)\n",
        "df_CHATLU['Cr [t]'] = [0] * len(df_CHATLU)"
      ],
      "metadata": {
        "colab": {
          "base_uri": "https://localhost:8080/"
        },
        "id": "gcxkpGQYU9fa",
        "outputId": "b018806e-1cd7-452d-f76a-6b344eb98a56"
      },
      "execution_count": null,
      "outputs": [
        {
          "output_type": "stream",
          "name": "stderr",
          "text": [
            "<ipython-input-41-acc57a080262>:3: SettingWithCopyWarning: \n",
            "A value is trying to be set on a copy of a slice from a DataFrame.\n",
            "Try using .loc[row_indexer,col_indexer] = value instead\n",
            "\n",
            "See the caveats in the documentation: https://pandas.pydata.org/pandas-docs/stable/user_guide/indexing.html#returning-a-view-versus-a-copy\n",
            "  df_CHATLU['As [t]'] = [0] * len(df_CHATLU)\n",
            "<ipython-input-41-acc57a080262>:4: SettingWithCopyWarning: \n",
            "A value is trying to be set on a copy of a slice from a DataFrame.\n",
            "Try using .loc[row_indexer,col_indexer] = value instead\n",
            "\n",
            "See the caveats in the documentation: https://pandas.pydata.org/pandas-docs/stable/user_guide/indexing.html#returning-a-view-versus-a-copy\n",
            "  df_CHATLU['Ni [t]'] = [0] * len(df_CHATLU)\n",
            "<ipython-input-41-acc57a080262>:5: SettingWithCopyWarning: \n",
            "A value is trying to be set on a copy of a slice from a DataFrame.\n",
            "Try using .loc[row_indexer,col_indexer] = value instead\n",
            "\n",
            "See the caveats in the documentation: https://pandas.pydata.org/pandas-docs/stable/user_guide/indexing.html#returning-a-view-versus-a-copy\n",
            "  df_CHATLU['Cr [t]'] = [0] * len(df_CHATLU)\n"
          ]
        }
      ]
    },
    {
      "cell_type": "code",
      "source": [
        "df_AllIncluded = pd.concat([df_final, df_CHATLU], ignore_index=True)"
      ],
      "metadata": {
        "id": "K_STabiWViVy"
      },
      "execution_count": null,
      "outputs": []
    },
    {
      "cell_type": "markdown",
      "source": [
        "# Downloading the Data"
      ],
      "metadata": {
        "id": "ZSlwla6FRQbl"
      }
    },
    {
      "cell_type": "code",
      "source": [
        "# We download the final dataset as a csv\n",
        "df_AllIncluded.to_csv('Data_for_GrDP.csv', index=False)"
      ],
      "metadata": {
        "id": "Cx__moD0J-e5"
      },
      "execution_count": null,
      "outputs": []
    }
  ]
}
{
  "nbformat": 4,
  "nbformat_minor": 0,
  "metadata": {
    "colab": {
      "provenance": []
    },
    "kernelspec": {
      "name": "python3",
      "display_name": "Python 3"
    },
    "language_info": {
      "name": "python"
    }
  },
  "cells": [
    {
      "cell_type": "markdown",
      "source": [
        "# Importing Libraries"
      ],
      "metadata": {
        "id": "e0kmetTwuEu3"
      }
    },
    {
      "cell_type": "code",
      "execution_count": null,
      "metadata": {
        "id": "FbY0jSxxt_VO"
      },
      "outputs": [],
      "source": [
        "import pandas as pd\n",
        "import numpy as np\n",
        "from math import pi\n",
        "import warnings\n",
        "import matplotlib.pyplot as plt\n",
        "import plotly.express as px\n",
        "import ipywidgets as widgets\n",
        "from ipywidgets import interact\n",
        "import math"
      ]
    },
    {
      "cell_type": "markdown",
      "source": [
        "# Downloading dataset containing Emissions, GDP and Population"
      ],
      "metadata": {
        "id": "IiE1L49OuJJI"
      }
    },
    {
      "cell_type": "markdown",
      "source": [
        "**Warning**: The data for Arsenic (As), Nickel (Ni) and Chromium (Cr) emissions for Switzerland, Luxembourg and Austria were missing so I set these values to 0, because these emissions don't really affect the results"
      ],
      "metadata": {
        "id": "km6IZ3lLuODM"
      }
    },
    {
      "cell_type": "code",
      "source": [
        "Emissions_GDP_Population = pd.read_csv('https://raw.githubusercontent.com/AntoineTrabia/Green-Domestic-Product/main/data/Data_for_GrDP.csv')"
      ],
      "metadata": {
        "id": "VTxZ7qEYuITv"
      },
      "execution_count": null,
      "outputs": []
    },
    {
      "cell_type": "code",
      "source": [
        "Emissions = Emissions_GDP_Population.loc[:,['countries', 'Year', 'Territorial GHG emissions [t]',\n",
        "       'Residential GHG emissions [t]', 'Transfer GHG emissions [t]',\n",
        "       'Footprint GHG emissions [t]','As [t]',\n",
        "       'Pb [t]', 'NOx [t]', 'SOx [t]', 'NH3 [t]', 'PM2.5 [t]', 'PM10 [t]',\n",
        "       'NMVOC [t]', 'Cd [t]', 'Hg [t]', 'Cr [t]', 'Ni [t]']]"
      ],
      "metadata": {
        "id": "RJIIDKwy_dlw"
      },
      "execution_count": null,
      "outputs": []
    },
    {
      "cell_type": "markdown",
      "source": [
        "# Marginal Damage Cost of pollutants"
      ],
      "metadata": {
        "id": "PJlrr7PmuSgF"
      }
    },
    {
      "cell_type": "markdown",
      "source": [
        "## Information on dataset\n",
        "GHG: Euro per tCO2eq\n",
        "\n",
        "Health 1: Impact on health from fine particulate matter and ozone\n",
        "Euro per tonne of emissions of precursors\n",
        "\n",
        "Health 2: Impact on health from NO2\n",
        "Euro per tonne of emissions of precursors\n",
        "\n",
        "Crops: Impact on crops from ozone\n",
        "Euro per tonne of emissions of precursors\n",
        "\n",
        "Forests: Impact on forests from ozone\n",
        "Euro per tonne of emissions of precursors\n",
        "\n",
        "Buildings: Impact on buildings\n",
        "Euro per tonne of emissions\n",
        "\n",
        "Ecosystems: Impact on ecosystems (eutrophication)\n",
        "Euro per tonne of emissions  of precursors\n",
        "\n",
        "Heavy metals: Euro per kg of pollutant"
      ],
      "metadata": {
        "id": "ellTn_KkuXrE"
      }
    },
    {
      "cell_type": "markdown",
      "source": [
        "## Downloading Dataset"
      ],
      "metadata": {
        "id": "lo_c8S82ufJM"
      }
    },
    {
      "cell_type": "code",
      "source": [
        "MDC = pd.read_excel('https://raw.githubusercontent.com/AntoineTrabia/Green-Domestic-Product/main/data/MDC.xlsx')"
      ],
      "metadata": {
        "id": "EPkoKB9duVH-"
      },
      "execution_count": null,
      "outputs": []
    },
    {
      "cell_type": "markdown",
      "source": [
        "## Data Treatment"
      ],
      "metadata": {
        "id": "C5qIlfrzuhXo"
      }
    },
    {
      "cell_type": "code",
      "source": [
        "# We convert the unit into euro per tonne of pollutant for the heavy metals\n",
        "heavy_metals = ['Pb cost', 'Cd cost', 'Hg cost', 'As cost', 'Ni cost','Cr cost']\n",
        "for metal in heavy_metals:\n",
        "  column = metal + ' [Euro/kg]'\n",
        "  new_column = metal + ' [Euro/t]'\n",
        "  MDC[column] = 1000*MDC[column]\n",
        "  MDC.rename(columns={column: new_column},inplace=True)"
      ],
      "metadata": {
        "id": "-hahV59Juinj"
      },
      "execution_count": null,
      "outputs": []
    },
    {
      "cell_type": "markdown",
      "source": [
        "# External Costs"
      ],
      "metadata": {
        "id": "_Md_mP4IumhD"
      }
    },
    {
      "cell_type": "markdown",
      "source": [
        "## Merging Datasets"
      ],
      "metadata": {
        "id": "AkuhbN2tvGxX"
      }
    },
    {
      "cell_type": "code",
      "source": [
        "Emissions_GDP_Population_MDC = pd.merge(Emissions_GDP_Population, MDC, on=['countries'])\n",
        "External_costs = Emissions_GDP_Population_MDC.loc[:,['countries','Year']]"
      ],
      "metadata": {
        "id": "p_Y2UfZJuq6g"
      },
      "execution_count": null,
      "outputs": []
    },
    {
      "cell_type": "markdown",
      "source": [
        "## External cost due to impacts of climate change (GHG emissions)"
      ],
      "metadata": {
        "id": "FJz1myY0vJVK"
      }
    },
    {
      "cell_type": "code",
      "source": [
        "reporting_method_list = ['Territorial GHG emissions [t]', 'Residential GHG emissions [t]', 'Footprint GHG emissions [t]']\n",
        "cost_list = ['Low GHG [Euro/t]', 'Central GHG [Euro/t]', 'High GHG [Euro/t]']\n",
        "\n",
        "for reporting_method in reporting_method_list:\n",
        "    for cost_scenario in cost_list:\n",
        "      new_column_name = \"GHG: \" + reporting_method.split()[0] + \" & \" + cost_scenario.split()[0] + \" scenario [Euro]\"\n",
        "      External_costs[new_column_name] = Emissions_GDP_Population_MDC[reporting_method] * Emissions_GDP_Population_MDC[cost_scenario]"
      ],
      "metadata": {
        "id": "wSyQJFNzu8Q9"
      },
      "execution_count": null,
      "outputs": []
    },
    {
      "cell_type": "markdown",
      "source": [
        "## External costs due to nitrogen oxides (NOx) emissions"
      ],
      "metadata": {
        "id": "l68A-f8vvmWs"
      }
    },
    {
      "cell_type": "code",
      "source": [
        "External_costs['Nox (Health - VOLY) [Euro]'] = Emissions_GDP_Population_MDC['NOx [t]'] * (Emissions_GDP_Population_MDC['Health 1: Nox VOLY [Euro/t]'] + Emissions_GDP_Population_MDC['Health 2: NOx VOLY [Euro/t]'])\n",
        "External_costs['Nox (Health - VSL) [Euro]'] = Emissions_GDP_Population_MDC['NOx [t]'] * (Emissions_GDP_Population_MDC['Health 1: Nox VSL [Euro/t]'] + Emissions_GDP_Population_MDC['Health 2: NOx VSL [Euro/t]'])\n",
        "External_costs['Nox (Crops, Forests, Buildings & Ecosystems) [Euro]'] = Emissions_GDP_Population_MDC['NOx [t]'] * (Emissions_GDP_Population_MDC['Crops: Nox [Euro/t]'] + Emissions_GDP_Population_MDC['Buildings: Nox [Euro/t]'] + Emissions_GDP_Population_MDC['Ecosystems: Nox [Euro/t]'] + Emissions_GDP_Population_MDC['Forests: Nox [Euro/t]'])\n",
        "External_costs['Nox (Crops) [Euro]'] = Emissions_GDP_Population_MDC['NOx [t]'] * Emissions_GDP_Population_MDC['Crops: Nox [Euro/t]']\n",
        "External_costs['Nox (Forests) [Euro]'] = Emissions_GDP_Population_MDC['NOx [t]'] * Emissions_GDP_Population_MDC['Forests: Nox [Euro/t]']\n",
        "External_costs['Nox (Buildings) [Euro]'] = Emissions_GDP_Population_MDC['NOx [t]'] * Emissions_GDP_Population_MDC['Buildings: Nox [Euro/t]']\n",
        "External_costs['Nox (Ecosystems) [Euro]'] = Emissions_GDP_Population_MDC['NOx [t]'] * Emissions_GDP_Population_MDC['Ecosystems: Nox [Euro/t]']\n",
        "External_costs['Nox (Total - VOLY) [Euro]'] = External_costs['Nox (Health - VOLY) [Euro]'] + External_costs['Nox (Crops, Forests, Buildings & Ecosystems) [Euro]']\n",
        "External_costs['Nox (Total - VSL) [Euro]'] = External_costs['Nox (Health - VSL) [Euro]'] + External_costs['Nox (Crops, Forests, Buildings & Ecosystems) [Euro]']"
      ],
      "metadata": {
        "id": "gL9peXPxvow2"
      },
      "execution_count": null,
      "outputs": []
    },
    {
      "cell_type": "markdown",
      "source": [
        "## External costs due to fine particulate matter (PM2.5) emissions"
      ],
      "metadata": {
        "id": "ALEcPG_mv6BA"
      }
    },
    {
      "cell_type": "code",
      "source": [
        "External_costs['PM2.5 (Health - VOLY) [Euro]'] = Emissions_GDP_Population_MDC['PM2.5 [t]'] * Emissions_GDP_Population_MDC['Health 1: PM2.5 VOLY [Euro/t]']\n",
        "External_costs['PM2.5 (Health - VSL) [Euro]'] = Emissions_GDP_Population_MDC['PM2.5 [t]'] * Emissions_GDP_Population_MDC['Health 1: PM2.5 VSL [Euro/t]']"
      ],
      "metadata": {
        "id": "Q2zy8Ltpv8z5"
      },
      "execution_count": null,
      "outputs": []
    },
    {
      "cell_type": "markdown",
      "source": [
        "## External costs due to coarse particulate matter (PM10) emissions"
      ],
      "metadata": {
        "id": "JVXsIBL7wDL_"
      }
    },
    {
      "cell_type": "code",
      "source": [
        "External_costs['PM10 (Health - VOLY) [Euro]'] = Emissions_GDP_Population_MDC['PM10 [t]'] * Emissions_GDP_Population_MDC['Health 1: PM10 VOLY [Euro/t]']\n",
        "External_costs['PM10 (Health - VSL) [Euro]'] = Emissions_GDP_Population_MDC['PM10 [t]'] * Emissions_GDP_Population_MDC['Health 1: PM10 VSL [Euro/t]']"
      ],
      "metadata": {
        "id": "PcHRyoXvwBNM"
      },
      "execution_count": null,
      "outputs": []
    },
    {
      "cell_type": "markdown",
      "source": [
        "## External costs due to Sulfur oxides (SOx) emissions"
      ],
      "metadata": {
        "id": "NPH7arW-wKMr"
      }
    },
    {
      "cell_type": "code",
      "source": [
        "External_costs['SOx (Health - VOLY) [Euro]'] = Emissions_GDP_Population_MDC['SOx [t]'] * Emissions_GDP_Population_MDC['Health 1: SOx VOLY [Euro/t]']\n",
        "External_costs['SOx (Health - VSL) [Euro]'] = Emissions_GDP_Population_MDC['SOx [t]'] * Emissions_GDP_Population_MDC['Health 1: SOx VSL [Euro/t]']\n",
        "External_costs['SOx (Buildings) [Euro]'] = Emissions_GDP_Population_MDC['SOx [t]'] * Emissions_GDP_Population_MDC['Buildings: Sox [Euro/t]']\n",
        "External_costs['SOx (Total - VOLY) [Euro]'] = External_costs['SOx (Health - VOLY) [Euro]'] + External_costs['SOx (Buildings) [Euro]']\n",
        "External_costs['SOx (Total - VSL) [Euro]'] = External_costs['SOx (Health - VSL) [Euro]'] + External_costs['SOx (Buildings) [Euro]']"
      ],
      "metadata": {
        "id": "dgJ2ZKjkwJhQ"
      },
      "execution_count": null,
      "outputs": []
    },
    {
      "cell_type": "markdown",
      "source": [
        "## External costs due to Non-methane volatile organic compound (NMVOC) emissions"
      ],
      "metadata": {
        "id": "Ay8vmUq1weud"
      }
    },
    {
      "cell_type": "code",
      "source": [
        "External_costs['NMVOC (Health - VOLY) [Euro]'] = Emissions_GDP_Population_MDC['NMVOC [t]'] * Emissions_GDP_Population_MDC['Health 1: NMVOC VOLY [Euro/t]']\n",
        "External_costs['NMVOC (Health - VSL) [Euro]'] = Emissions_GDP_Population_MDC['NMVOC [t]'] * Emissions_GDP_Population_MDC['Health 1: NMVOC VSL [Euro/t]']\n",
        "External_costs['NMVOC (Forests & Crops) [Euro]'] = Emissions_GDP_Population_MDC['NMVOC [t]'] * (Emissions_GDP_Population_MDC['Crops: NMVOC [Euro/t]'] + Emissions_GDP_Population_MDC['Forests: NMVOC [Euro/t]'])\n",
        "External_costs['NMVOC (Forests) [Euro]'] = Emissions_GDP_Population_MDC['NMVOC [t]'] * Emissions_GDP_Population_MDC['Forests: NMVOC [Euro/t]']\n",
        "External_costs['NMVOC (Crops) [Euro]'] = Emissions_GDP_Population_MDC['NMVOC [t]'] * Emissions_GDP_Population_MDC['Crops: NMVOC [Euro/t]']\n",
        "External_costs['NMVOC (Total - VOLY) [Euro]'] = External_costs['NMVOC (Health - VOLY) [Euro]'] + External_costs['NMVOC (Forests & Crops) [Euro]']\n",
        "External_costs['NMVOC (Total - VSL) [Euro]'] = External_costs['NMVOC (Health - VSL) [Euro]'] + External_costs['NMVOC (Forests & Crops) [Euro]']"
      ],
      "metadata": {
        "id": "cFYjEMV5wbrs"
      },
      "execution_count": null,
      "outputs": []
    },
    {
      "cell_type": "markdown",
      "source": [
        "## External costs due to Ammonia (NH3) emissions"
      ],
      "metadata": {
        "id": "DChEsjRKwl9_"
      }
    },
    {
      "cell_type": "code",
      "source": [
        "External_costs['NH3 (Health - VOLY) [Euro]'] = Emissions_GDP_Population_MDC['NH3 [t]'] * Emissions_GDP_Population_MDC['Health 1: NH3 VOLY [Euro/t]']\n",
        "External_costs['NH3 (Health - VSL) [Euro]'] = Emissions_GDP_Population_MDC['NH3 [t]'] * Emissions_GDP_Population_MDC['Health 1: NH3 VSL [Euro/t]']\n",
        "External_costs['NH3 (Ecosystems) [Euro]'] = Emissions_GDP_Population_MDC['NH3 [t]'] * Emissions_GDP_Population_MDC['Ecosystems: NH3 [Euro/t]']\n",
        "External_costs['NH3 (Total - VOLY) [Euro]'] = External_costs['NH3 (Health - VOLY) [Euro]'] + External_costs['NH3 (Ecosystems) [Euro]']\n",
        "External_costs['NH3 (Total - VSL) [Euro]'] = External_costs['NH3 (Health - VSL) [Euro]'] + External_costs['NH3 (Ecosystems) [Euro]']"
      ],
      "metadata": {
        "id": "5p_YA3ygwlbt"
      },
      "execution_count": null,
      "outputs": []
    },
    {
      "cell_type": "markdown",
      "source": [
        "## External costs due to heavy metals"
      ],
      "metadata": {
        "id": "Sknh1BtawwMK"
      }
    },
    {
      "cell_type": "code",
      "source": [
        "External_costs['Pb (Total) [Euro]'] = Emissions_GDP_Population_MDC['Pb [t]'] * Emissions_GDP_Population_MDC['Pb cost [Euro/t]']\n",
        "External_costs['Hg (Total) [Euro]'] = Emissions_GDP_Population_MDC['Hg [t]'] * Emissions_GDP_Population_MDC['Hg cost [Euro/t]']\n",
        "External_costs['Cd (Total) [Euro]'] = Emissions_GDP_Population_MDC['Cd [t]'] * Emissions_GDP_Population_MDC['Cd cost [Euro/t]']\n",
        "External_costs['As (Total) [Euro]'] = Emissions_GDP_Population_MDC['As [t]'] * Emissions_GDP_Population_MDC['As cost [Euro/t]']\n",
        "External_costs['Ni (Total) [Euro]'] = Emissions_GDP_Population_MDC['Ni [t]'] * Emissions_GDP_Population_MDC['Ni cost [Euro/t]']\n",
        "External_costs['Cr (Total) [Euro]'] = Emissions_GDP_Population_MDC['Cr [t]'] * Emissions_GDP_Population_MDC['Cr cost [Euro/t]']"
      ],
      "metadata": {
        "id": "6ObBT5z1wqJ-"
      },
      "execution_count": null,
      "outputs": []
    },
    {
      "cell_type": "markdown",
      "source": [
        "## Total impact on health"
      ],
      "metadata": {
        "id": "EAIxveJ-w5G4"
      }
    },
    {
      "cell_type": "code",
      "source": [
        "External_costs['Health - VOLY (Total) [Euro]'] = (\n",
        "    External_costs['Nox (Health - VOLY) [Euro]'] +\n",
        "    External_costs['PM2.5 (Health - VOLY) [Euro]'] +\n",
        "    External_costs['PM10 (Health - VOLY) [Euro]'] +\n",
        "    External_costs['SOx (Health - VOLY) [Euro]'] +\n",
        "    External_costs['NMVOC (Health - VOLY) [Euro]'] +\n",
        "    External_costs['NH3 (Health - VOLY) [Euro]']\n",
        ")\n",
        "\n",
        "External_costs['Health - VSL (Total) [Euro]'] = (\n",
        "    External_costs['Nox (Health - VSL) [Euro]'] +\n",
        "    External_costs['PM2.5 (Health - VSL) [Euro]'] +\n",
        "    External_costs['PM10 (Health - VSL) [Euro]'] +\n",
        "    External_costs['SOx (Health - VSL) [Euro]'] +\n",
        "    External_costs['NMVOC (Health - VSL) [Euro]'] +\n",
        "    External_costs['NH3 (Health - VSL) [Euro]']\n",
        ")"
      ],
      "metadata": {
        "id": "EhUtTMiww9jc"
      },
      "execution_count": null,
      "outputs": []
    },
    {
      "cell_type": "markdown",
      "source": [
        "## Total impact on Crops, Forests, Buildings & Ecosystems"
      ],
      "metadata": {
        "id": "AEtcnFFMxJ4U"
      }
    },
    {
      "cell_type": "code",
      "source": [
        "External_costs['Crops (Total) [Euro]'] = External_costs['Nox (Crops) [Euro]'] + External_costs['NMVOC (Crops) [Euro]']\n",
        "External_costs['Forests (Total) [Euro]'] = External_costs['Nox (Forests) [Euro]'] + External_costs['NMVOC (Forests) [Euro]']\n",
        "External_costs['Buildings (Total) [Euro]'] = External_costs['Nox (Buildings) [Euro]'] + External_costs['SOx (Buildings) [Euro]']\n",
        "External_costs['Ecosystems (Total) [Euro]'] = External_costs['Nox (Ecosystems) [Euro]'] + External_costs['NH3 (Ecosystems) [Euro]']"
      ],
      "metadata": {
        "id": "OS0Gx0avxJcc"
      },
      "execution_count": null,
      "outputs": []
    },
    {
      "cell_type": "markdown",
      "source": [
        "## Air Pollutants"
      ],
      "metadata": {
        "id": "MBsLZ4RSxPRX"
      }
    },
    {
      "cell_type": "code",
      "source": [
        "External_costs['Air Pollutants - VOLY [Euro]'] = (\n",
        "    External_costs['Health - VOLY (Total) [Euro]'] +\n",
        "    External_costs['Crops (Total) [Euro]'] +\n",
        "    External_costs['Forests (Total) [Euro]'] +\n",
        "    External_costs['Buildings (Total) [Euro]'] +\n",
        "    External_costs['Ecosystems (Total) [Euro]']\n",
        ")\n",
        "\n",
        "External_costs['Air Pollutants - VSL [Euro]'] = (\n",
        "    External_costs['Health - VSL (Total) [Euro]'] +\n",
        "    External_costs['Crops (Total) [Euro]'] +\n",
        "    External_costs['Forests (Total) [Euro]'] +\n",
        "    External_costs['Buildings (Total) [Euro]'] +\n",
        "    External_costs['Ecosystems (Total) [Euro]']\n",
        ")"
      ],
      "metadata": {
        "id": "lcCfX2IbxahI"
      },
      "execution_count": null,
      "outputs": []
    },
    {
      "cell_type": "markdown",
      "source": [
        "## Heavy Metals"
      ],
      "metadata": {
        "id": "BZRE1Q80xc-K"
      }
    },
    {
      "cell_type": "code",
      "source": [
        "External_costs['Heavy Metals (Total) [Euro]'] = (\n",
        "    External_costs['Pb (Total) [Euro]'] +\n",
        "    External_costs['Hg (Total) [Euro]'] +\n",
        "    External_costs['Cd (Total) [Euro]'] +\n",
        "    External_costs['As (Total) [Euro]'] +\n",
        "    External_costs['Ni (Total) [Euro]'] +\n",
        "    External_costs['Cr (Total) [Euro]']\n",
        ")"
      ],
      "metadata": {
        "id": "UalSE355xfVt"
      },
      "execution_count": null,
      "outputs": []
    },
    {
      "cell_type": "markdown",
      "source": [
        "## Total External Costs"
      ],
      "metadata": {
        "id": "NvSwbi-GxlgU"
      }
    },
    {
      "cell_type": "code",
      "source": [
        "def Total(column_list, column_name, EXT_COST):\n",
        "  EXT_COST[column_name] = [0] * len(EXT_COST)\n",
        "  for column in column_list:\n",
        "    EXT_COST[column_name] += EXT_COST[column]\n",
        "  return EXT_COST\n",
        "\n",
        "default_list = ['Crops (Total) [Euro]','Forests (Total) [Euro]','Buildings (Total) [Euro]','Ecosystems (Total) [Euro]','Heavy Metals (Total) [Euro]']\n",
        "GHG_list = ['GHG: Territorial & Low scenario [Euro]',\n",
        "       'GHG: Territorial & Central scenario [Euro]',\n",
        "       'GHG: Territorial & High scenario [Euro]',\n",
        "       'GHG: Residential & Low scenario [Euro]',\n",
        "       'GHG: Residential & Central scenario [Euro]',\n",
        "       'GHG: Residential & High scenario [Euro]',\n",
        "       'GHG: Footprint & Low scenario [Euro]',\n",
        "       'GHG: Footprint & Central scenario [Euro]',\n",
        "       'GHG: Footprint & High scenario [Euro]']\n",
        "Health_list = ['Health - VOLY (Total) [Euro]', 'Health - VSL (Total) [Euro]']\n",
        "\n",
        "for GHG_scenario in GHG_list:\n",
        "    for Health_scenario in Health_list:\n",
        "      column_list = default_list + [GHG_scenario, Health_scenario ]\n",
        "      column_name = f'External costs ({GHG_scenario.split()[1]} & {GHG_scenario.split()[3]} GHG with {Health_scenario.split()[2]}) scenario [Euro]'\n",
        "      External_costs = Total(column_list, column_name, External_costs)"
      ],
      "metadata": {
        "id": "BtxM2sNixjyy"
      },
      "execution_count": null,
      "outputs": []
    },
    {
      "cell_type": "markdown",
      "source": [
        "## Test of the importance of As, Ni and Cr"
      ],
      "metadata": {
        "id": "I7cUVusG52L-"
      }
    },
    {
      "cell_type": "code",
      "source": [
        "column_list_test = ['External costs (Territorial & Low GHG with VOLY) scenario [Euro]',\n",
        "       'External costs (Territorial & Low GHG with VSL) scenario [Euro]',\n",
        "       'External costs (Territorial & Central GHG with VOLY) scenario [Euro]',\n",
        "       'External costs (Territorial & Central GHG with VSL) scenario [Euro]',\n",
        "       'External costs (Territorial & High GHG with VOLY) scenario [Euro]',\n",
        "       'External costs (Territorial & High GHG with VSL) scenario [Euro]',\n",
        "       'External costs (Residential & Low GHG with VOLY) scenario [Euro]',\n",
        "       'External costs (Residential & Low GHG with VSL) scenario [Euro]',\n",
        "       'External costs (Residential & Central GHG with VOLY) scenario [Euro]',\n",
        "       'External costs (Residential & Central GHG with VSL) scenario [Euro]',\n",
        "       'External costs (Residential & High GHG with VOLY) scenario [Euro]',\n",
        "       'External costs (Residential & High GHG with VSL) scenario [Euro]',\n",
        "       'External costs (Footprint & Low GHG with VOLY) scenario [Euro]',\n",
        "       'External costs (Footprint & Low GHG with VSL) scenario [Euro]',\n",
        "       'External costs (Footprint & Central GHG with VOLY) scenario [Euro]',\n",
        "       'External costs (Footprint & Central GHG with VSL) scenario [Euro]',\n",
        "       'External costs (Footprint & High GHG with VOLY) scenario [Euro]',\n",
        "       'External costs (Footprint & High GHG with VSL) scenario [Euro]']\n",
        "for column in column_list_test:\n",
        "  new_column = 'Proportion in % - ' + column\n",
        "  External_costs[new_column] = 100*(External_costs['As (Total) [Euro]'] + External_costs['Ni (Total) [Euro]'] + External_costs['Cr (Total) [Euro]'])/External_costs[column]\n",
        "  print(f'For {column} maximum: {External_costs[new_column].max():0.2f}% mean: {External_costs[new_column].mean():0.2f}%')"
      ],
      "metadata": {
        "colab": {
          "base_uri": "https://localhost:8080/"
        },
        "id": "eNFIEtfQ55s_",
        "outputId": "84c65d42-4473-4777-e577-f76887f14c17"
      },
      "execution_count": null,
      "outputs": [
        {
          "output_type": "stream",
          "name": "stdout",
          "text": [
            "For External costs (Territorial & Low GHG with VOLY) scenario [Euro] maximum: 3.72% mean: 0.42%\n",
            "For External costs (Territorial & Low GHG with VSL) scenario [Euro] maximum: 2.53% mean: 0.22%\n",
            "For External costs (Territorial & Central GHG with VOLY) scenario [Euro] maximum: 3.10% mean: 0.36%\n",
            "For External costs (Territorial & Central GHG with VSL) scenario [Euro] maximum: 2.22% mean: 0.20%\n",
            "For External costs (Territorial & High GHG with VOLY) scenario [Euro] maximum: 2.78% mean: 0.17%\n",
            "For External costs (Territorial & High GHG with VSL) scenario [Euro] maximum: 1.60% mean: 0.12%\n",
            "For External costs (Residential & Low GHG with VOLY) scenario [Euro] maximum: 2.33% mean: 0.27%\n",
            "For External costs (Residential & Low GHG with VSL) scenario [Euro] maximum: 1.59% mean: 0.14%\n",
            "For External costs (Residential & Central GHG with VOLY) scenario [Euro] maximum: 2.18% mean: 0.21%\n",
            "For External costs (Residential & Central GHG with VSL) scenario [Euro] maximum: 1.52% mean: 0.12%\n",
            "For External costs (Residential & High GHG with VOLY) scenario [Euro] maximum: 1.31% mean: 0.08%\n",
            "For External costs (Residential & High GHG with VSL) scenario [Euro] maximum: 1.04% mean: 0.06%\n",
            "For External costs (Footprint & Low GHG with VOLY) scenario [Euro] maximum: 2.25% mean: 0.25%\n",
            "For External costs (Footprint & Low GHG with VSL) scenario [Euro] maximum: 1.55% mean: 0.13%\n",
            "For External costs (Footprint & Central GHG with VOLY) scenario [Euro] maximum: 2.05% mean: 0.20%\n",
            "For External costs (Footprint & Central GHG with VSL) scenario [Euro] maximum: 1.46% mean: 0.11%\n",
            "For External costs (Footprint & High GHG with VOLY) scenario [Euro] maximum: 1.11% mean: 0.07%\n",
            "For External costs (Footprint & High GHG with VSL) scenario [Euro] maximum: 0.91% mean: 0.05%\n"
          ]
        }
      ]
    },
    {
      "cell_type": "markdown",
      "source": [
        "## External Costs as % of GDP and per capita"
      ],
      "metadata": {
        "id": "z0yTmvsDEThI"
      }
    },
    {
      "cell_type": "code",
      "source": [
        "Emissions_GDP_Population_MDC['GDP [Euro]'] = Emissions_GDP_Population_MDC['GDP [MIO_EURO]']*1e6"
      ],
      "metadata": {
        "id": "IMWUKdsVEzuq"
      },
      "execution_count": null,
      "outputs": []
    },
    {
      "cell_type": "code",
      "source": [
        "df_GDP_POP_EC = Emissions_GDP_Population_MDC.loc[:,['countries','Year','GDP [Euro]','Population']]\n",
        "External_costs = pd.merge(External_costs, df_GDP_POP_EC, on=['countries','Year'], how='inner')"
      ],
      "metadata": {
        "id": "2npBM-NeEaOk"
      },
      "execution_count": null,
      "outputs": []
    },
    {
      "cell_type": "code",
      "source": [
        "column_list = ['External costs (Territorial & Low GHG with VOLY) scenario [Euro]',\n",
        "       'External costs (Territorial & Low GHG with VSL) scenario [Euro]',\n",
        "       'External costs (Territorial & Central GHG with VOLY) scenario [Euro]',\n",
        "       'External costs (Territorial & Central GHG with VSL) scenario [Euro]',\n",
        "       'External costs (Territorial & High GHG with VOLY) scenario [Euro]',\n",
        "       'External costs (Territorial & High GHG with VSL) scenario [Euro]',\n",
        "       'External costs (Residential & Low GHG with VOLY) scenario [Euro]',\n",
        "       'External costs (Residential & Low GHG with VSL) scenario [Euro]',\n",
        "       'External costs (Residential & Central GHG with VOLY) scenario [Euro]',\n",
        "       'External costs (Residential & Central GHG with VSL) scenario [Euro]',\n",
        "       'External costs (Residential & High GHG with VOLY) scenario [Euro]',\n",
        "       'External costs (Residential & High GHG with VSL) scenario [Euro]',\n",
        "       'External costs (Footprint & Low GHG with VOLY) scenario [Euro]',\n",
        "       'External costs (Footprint & Low GHG with VSL) scenario [Euro]',\n",
        "       'External costs (Footprint & Central GHG with VOLY) scenario [Euro]',\n",
        "       'External costs (Footprint & Central GHG with VSL) scenario [Euro]',\n",
        "       'External costs (Footprint & High GHG with VOLY) scenario [Euro]',\n",
        "       'External costs (Footprint & High GHG with VSL) scenario [Euro]']\n",
        "\n",
        "per_capita_columns = []\n",
        "percentage_columns = []\n",
        "\n",
        "for external_costs in column_list:\n",
        "    # Create column names for per capita values\n",
        "    per_capita_column_name = f'External costs per capita {external_costs.split()[2]} {external_costs.split()[3]} {external_costs.split()[4]} {external_costs.split()[5]} {external_costs.split()[6]} {external_costs.split()[7]} scenario [Euro]'\n",
        "    # Calculate per capita values and append to the list\n",
        "    per_capita_values = External_costs[external_costs] / External_costs['Population']\n",
        "    per_capita_columns.append(pd.DataFrame({per_capita_column_name: per_capita_values}))\n",
        "\n",
        "    # Create column names for percentage values\n",
        "    percentage_column_name = f'{external_costs.split()[2]} {external_costs.split()[3]} {external_costs.split()[4]} {external_costs.split()[5]} {external_costs.split()[6]} {external_costs.split()[7]} scenario [%]'\n",
        "    # Calculate percentage values and append to the list\n",
        "    percentage_values = (External_costs[external_costs] / External_costs['GDP [Euro]']) * 100\n",
        "    percentage_columns.append(pd.DataFrame({percentage_column_name: percentage_values}))\n",
        "\n",
        "# Concatenate all per capita columns\n",
        "per_capita_df = pd.concat(per_capita_columns, axis=1)\n",
        "\n",
        "# Concatenate all percentage columns\n",
        "percentage_df = pd.concat(percentage_columns, axis=1)\n",
        "\n",
        "# Concatenate the new columns to the original DataFrame\n",
        "External_costs = pd.concat([External_costs, per_capita_df, percentage_df], axis=1)"
      ],
      "metadata": {
        "id": "TANpHZp-FT-h"
      },
      "execution_count": null,
      "outputs": []
    },
    {
      "cell_type": "markdown",
      "source": [
        "# GrDP"
      ],
      "metadata": {
        "id": "bsOXJS9b7W9L"
      }
    },
    {
      "cell_type": "markdown",
      "source": [
        "## Calculating GrDP"
      ],
      "metadata": {
        "id": "Dde8fayl70-O"
      }
    },
    {
      "cell_type": "code",
      "source": [
        "GrDP = External_costs.loc[:,['countries','Year','GDP [Euro]','Population']]\n",
        "column_list = ['External costs (Territorial & Low GHG with VOLY) scenario [Euro]',\n",
        "       'External costs (Territorial & Low GHG with VSL) scenario [Euro]',\n",
        "       'External costs (Territorial & Central GHG with VOLY) scenario [Euro]',\n",
        "       'External costs (Territorial & Central GHG with VSL) scenario [Euro]',\n",
        "       'External costs (Territorial & High GHG with VOLY) scenario [Euro]',\n",
        "       'External costs (Territorial & High GHG with VSL) scenario [Euro]',\n",
        "       'External costs (Residential & Low GHG with VOLY) scenario [Euro]',\n",
        "       'External costs (Residential & Low GHG with VSL) scenario [Euro]',\n",
        "       'External costs (Residential & Central GHG with VOLY) scenario [Euro]',\n",
        "       'External costs (Residential & Central GHG with VSL) scenario [Euro]',\n",
        "       'External costs (Residential & High GHG with VOLY) scenario [Euro]',\n",
        "       'External costs (Residential & High GHG with VSL) scenario [Euro]',\n",
        "       'External costs (Footprint & Low GHG with VOLY) scenario [Euro]',\n",
        "       'External costs (Footprint & Low GHG with VSL) scenario [Euro]',\n",
        "       'External costs (Footprint & Central GHG with VOLY) scenario [Euro]',\n",
        "       'External costs (Footprint & Central GHG with VSL) scenario [Euro]',\n",
        "       'External costs (Footprint & High GHG with VOLY) scenario [Euro]',\n",
        "       'External costs (Footprint & High GHG with VSL) scenario [Euro]']\n",
        "for external_costs in column_list:\n",
        "  column_name = f'GrDP {external_costs.split()[2]} {external_costs.split()[3]} {external_costs.split()[4]} {external_costs.split()[5]} {external_costs.split()[6]} {external_costs.split()[7]} scenario [Euro]'\n",
        "  GrDP[column_name] = External_costs['GDP [Euro]'] - External_costs[external_costs]"
      ],
      "metadata": {
        "id": "9N190FWt72u_"
      },
      "execution_count": null,
      "outputs": []
    },
    {
      "cell_type": "markdown",
      "source": [
        "## Calculating GrDP per capita"
      ],
      "metadata": {
        "id": "iFM7IVrODPvR"
      }
    },
    {
      "cell_type": "code",
      "source": [
        "column_list = ['GrDP (Territorial & Low GHG with VOLY) scenario [Euro]',\n",
        "       'GrDP (Territorial & Low GHG with VSL) scenario [Euro]',\n",
        "       'GrDP (Territorial & Central GHG with VOLY) scenario [Euro]',\n",
        "       'GrDP (Territorial & Central GHG with VSL) scenario [Euro]',\n",
        "       'GrDP (Territorial & High GHG with VOLY) scenario [Euro]',\n",
        "       'GrDP (Territorial & High GHG with VSL) scenario [Euro]',\n",
        "       'GrDP (Residential & Low GHG with VOLY) scenario [Euro]',\n",
        "       'GrDP (Residential & Low GHG with VSL) scenario [Euro]',\n",
        "       'GrDP (Residential & Central GHG with VOLY) scenario [Euro]',\n",
        "       'GrDP (Residential & Central GHG with VSL) scenario [Euro]',\n",
        "       'GrDP (Residential & High GHG with VOLY) scenario [Euro]',\n",
        "       'GrDP (Residential & High GHG with VSL) scenario [Euro]',\n",
        "       'GrDP (Footprint & Low GHG with VOLY) scenario [Euro]',\n",
        "       'GrDP (Footprint & Low GHG with VSL) scenario [Euro]',\n",
        "       'GrDP (Footprint & Central GHG with VOLY) scenario [Euro]',\n",
        "       'GrDP (Footprint & Central GHG with VSL) scenario [Euro]',\n",
        "       'GrDP (Footprint & High GHG with VOLY) scenario [Euro]',\n",
        "       'GrDP (Footprint & High GHG with VSL) scenario [Euro]']\n",
        "for GrDP_column in column_list:\n",
        "  column_name = f'GrDP per capita {GrDP_column.split()[1]} {GrDP_column.split()[2]} {GrDP_column.split()[3]} {GrDP_column.split()[4]} {GrDP_column.split()[5]} {GrDP_column.split()[6]} scenario [Euro]'\n",
        "  GrDP[column_name] = GrDP[GrDP_column]/GrDP['Population']\n",
        "GrDP['GDP per capita [Euro]'] = GrDP['GDP [Euro]']/GrDP['Population']"
      ],
      "metadata": {
        "id": "u0iNux-1DaSL"
      },
      "execution_count": null,
      "outputs": []
    },
    {
      "cell_type": "markdown",
      "source": [
        "# Decoupling"
      ],
      "metadata": {
        "id": "8H0CQGqK44Lv"
      }
    },
    {
      "cell_type": "code",
      "source": [
        "Data_for_decoupling = pd.merge(Emissions, External_costs, on=['countries','Year'], how='inner')"
      ],
      "metadata": {
        "id": "H8NbL5H56Gq9"
      },
      "execution_count": null,
      "outputs": []
    },
    {
      "cell_type": "markdown",
      "source": [
        "## Set reference year"
      ],
      "metadata": {
        "id": "ao5E_6NOAHhd"
      }
    },
    {
      "cell_type": "code",
      "source": [
        "# We check which years have no missing values\n",
        "for year in range(1990,2022):\n",
        "  sums_list = list(Data_for_decoupling.loc[Data_for_decoupling.Year >= year].isna().sum())\n",
        "  if all(el == 0 for el in sums_list):\n",
        "    print(f'{year} is good')\n",
        "  else:\n",
        "    print(f'For {year} we have missing values')"
      ],
      "metadata": {
        "colab": {
          "base_uri": "https://localhost:8080/"
        },
        "id": "35O9ZpzE5FTE",
        "outputId": "70c6c0e4-f9c7-4fe0-8bed-a5800031cea9"
      },
      "execution_count": null,
      "outputs": [
        {
          "output_type": "stream",
          "name": "stdout",
          "text": [
            "For 1990 we have missing values\n",
            "For 1991 we have missing values\n",
            "For 1992 we have missing values\n",
            "For 1993 we have missing values\n",
            "For 1994 we have missing values\n",
            "For 1995 we have missing values\n",
            "For 1996 we have missing values\n",
            "For 1997 we have missing values\n",
            "For 1998 we have missing values\n",
            "For 1999 we have missing values\n",
            "For 2000 we have missing values\n",
            "For 2001 we have missing values\n",
            "For 2002 we have missing values\n",
            "For 2003 we have missing values\n",
            "For 2004 we have missing values\n",
            "For 2005 we have missing values\n",
            "For 2006 we have missing values\n",
            "For 2007 we have missing values\n",
            "2008 is good\n",
            "2009 is good\n",
            "2010 is good\n",
            "2011 is good\n",
            "2012 is good\n",
            "2013 is good\n",
            "2014 is good\n",
            "2015 is good\n",
            "2016 is good\n",
            "2017 is good\n",
            "2018 is good\n",
            "2019 is good\n",
            "2020 is good\n",
            "2021 is good\n"
          ]
        }
      ]
    },
    {
      "cell_type": "code",
      "source": [
        "Reference_Year = 2011"
      ],
      "metadata": {
        "id": "sl-YfYIWAOmy"
      },
      "execution_count": null,
      "outputs": []
    },
    {
      "cell_type": "markdown",
      "source": [
        "## OECD decoupling indicator"
      ],
      "metadata": {
        "id": "T96_bwUo45B5"
      }
    },
    {
      "cell_type": "code",
      "source": [
        "####### Function definition #######\n",
        "\n",
        "def summing_emissions(column_list, df, new_column):\n",
        "    df[new_column] = df[column_list].sum(axis=1)\n",
        "\n",
        "\n",
        "def normalisation(column, df_results, df_calc, ref_year):\n",
        "    new_column = column.rsplit(maxsplit=1)[0]\n",
        "    norm_values = []\n",
        "\n",
        "    for country in df_results['countries'].unique():\n",
        "        value_0 = df_calc.loc[(df_calc.countries == country) & (df_calc.Year == ref_year), column].mean()\n",
        "        if value_0 != 0:\n",
        "            for year in df_results.loc[df_results.Year > ref_year, 'Year'].unique():\n",
        "                value_t = df_calc.loc[(df_calc.countries == country) & (df_calc.Year == year), column].mean()\n",
        "                norm_values.append((country, year, value_t / value_0))\n",
        "\n",
        "    # Create a DataFrame from the list and merge it back\n",
        "    norm_df = pd.DataFrame(norm_values, columns=['countries', 'Year', new_column])\n",
        "    df_results = df_results.merge(norm_df, on=['countries', 'Year'], how='left')\n",
        "\n",
        "    return df_results\n",
        "\n",
        "\n",
        "def decoupling_OECD(column, column_WRT, df_results, df_calc):\n",
        "    new_column = f\"{column}_{column_WRT}\"\n",
        "    decoupling_values = []\n",
        "\n",
        "    for country in df_results['countries'].unique():\n",
        "        for year in df_results['Year'].unique():\n",
        "            Et0 = df_calc.loc[(df_calc['countries'] == country) & (df_calc['Year'] == year), column].mean()\n",
        "            Yt0 = df_calc.loc[(df_calc['countries'] == country) & (df_calc['Year'] == year), column_WRT].mean()\n",
        "            if Yt0 != 0:\n",
        "                decoupling_values.append((country, year, 1 - Et0 / Yt0))\n",
        "\n",
        "    # Create a DataFrame from the list and merge it back\n",
        "    decoupling_df = pd.DataFrame(decoupling_values, columns=['countries', 'Year', new_column])\n",
        "    df_results = df_results.merge(decoupling_df, on=['countries', 'Year'], how='left')\n",
        "\n",
        "    return df_results\n",
        "\n",
        "\n",
        "\n",
        "####### Main #######\n",
        "\n",
        "# Define the columns for heavy metals and air pollutants\n",
        "heavy_metals = ['As [t]', 'Pb [t]', 'Cd [t]', 'Hg [t]', 'Cr [t]', 'Ni [t]']\n",
        "air_pollutants = ['NOx [t]', 'SOx [t]', 'NH3 [t]', 'PM2.5 [t]', 'PM10 [t]', 'NMVOC [t]']\n",
        "\n",
        "# Summing emissions\n",
        "summing_emissions(heavy_metals, Data_for_decoupling, 'Heavy Metals Emissions [t]')\n",
        "summing_emissions(air_pollutants, Data_for_decoupling, 'Air Pollutants Emissions [t]')\n",
        "\n",
        "# Prepare DataFrame for ratios\n",
        "Ratio_for_decoupling = Data_for_decoupling.loc[Data_for_decoupling.Year > Reference_Year, ['countries', 'Year']]\n",
        "\n",
        "# Normalize data\n",
        "for column in Data_for_decoupling.columns[2:]:\n",
        "    Ratio_for_decoupling = normalisation(column, Ratio_for_decoupling, Data_for_decoupling, Reference_Year)\n",
        "\n",
        "# Prepare DataFrame for decoupling\n",
        "Decoupling_OECD = Ratio_for_decoupling.loc[:, ['countries', 'Year']]\n",
        "\n",
        "# Calculate decoupling metrics\n",
        "for column in Ratio_for_decoupling.columns[2:]:\n",
        "    Decoupling_OECD = decoupling_OECD(column, 'GDP', Decoupling_OECD, Ratio_for_decoupling)\n",
        "    Decoupling_OECD = decoupling_OECD(column, 'Population', Decoupling_OECD, Ratio_for_decoupling)"
      ],
      "metadata": {
        "colab": {
          "base_uri": "https://localhost:8080/"
        },
        "id": "3Aw1f_dN7cP7",
        "outputId": "f38f13c2-fe98-4b08-d603-5190bc771dd7"
      },
      "execution_count": null,
      "outputs": [
        {
          "output_type": "stream",
          "name": "stderr",
          "text": [
            "<ipython-input-29-98af0f8c4ccc>:4: PerformanceWarning: DataFrame is highly fragmented.  This is usually the result of calling `frame.insert` many times, which has poor performance.  Consider joining all columns at once using pd.concat(axis=1) instead. To get a de-fragmented frame, use `newframe = frame.copy()`\n",
            "  df[new_column] = df[column_list].sum(axis=1)\n",
            "<ipython-input-29-98af0f8c4ccc>:4: PerformanceWarning: DataFrame is highly fragmented.  This is usually the result of calling `frame.insert` many times, which has poor performance.  Consider joining all columns at once using pd.concat(axis=1) instead. To get a de-fragmented frame, use `newframe = frame.copy()`\n",
            "  df[new_column] = df[column_list].sum(axis=1)\n"
          ]
        }
      ]
    },
    {
      "cell_type": "markdown",
      "source": [
        "## Intensity decoupling factor"
      ],
      "metadata": {
        "id": "xf5WvnVn-uAF"
      }
    },
    {
      "cell_type": "code",
      "source": [
        "####### Function definition #######\n",
        "\n",
        "def Relative_Difference(column, df_results, df_calc, ref_year):\n",
        "    new_column = column.rsplit(maxsplit=1)[0]\n",
        "    rel_diff_values = []\n",
        "\n",
        "    for country in df_results['countries'].unique():\n",
        "        value_0 = df_calc.loc[(df_calc.countries == country) & (df_calc.Year == ref_year), column].mean()\n",
        "        if value_0 != 0:\n",
        "            for year in df_results.loc[df_results.Year > ref_year, 'Year'].unique():\n",
        "                value_t = df_calc.loc[(df_calc.countries == country) & (df_calc.Year == year), column].mean()\n",
        "                rel_diff_values.append((country, year, (value_t - value_0) / value_0))\n",
        "\n",
        "    # Create a DataFrame from the list and merge it back\n",
        "    rel_diff_df = pd.DataFrame(rel_diff_values, columns=['countries', 'Year', new_column])\n",
        "    df_results = df_results.merge(rel_diff_df, on=['countries', 'Year'], how='left')\n",
        "\n",
        "    return df_results\n",
        "\n",
        "\n",
        "def IntensityFactorDecoupling(column, column_WRT, df_results, df_calc):\n",
        "    new_column = f\"{column}_{column_WRT}\"\n",
        "    intensity_values = []\n",
        "\n",
        "    for country in df_results['countries'].unique():\n",
        "        for year in df_results['Year'].unique():\n",
        "            gE = df_calc.loc[(df_calc.countries == country) & (df_calc.Year == year), column].mean()\n",
        "            gY = df_calc.loc[(df_calc.countries == country) & (df_calc.Year == year), column_WRT].mean()\n",
        "            if gY != 0:\n",
        "                intensity_values.append((country, year, -gE/gY if gY > 0 else gE/gY))\n",
        "\n",
        "    # Create a DataFrame from the list and merge it back\n",
        "    intensity_df = pd.DataFrame(intensity_values, columns=['countries', 'Year', new_column])\n",
        "    df_results = df_results.merge(intensity_df, on=['countries', 'Year'], how='left')\n",
        "\n",
        "    return df_results\n",
        "\n",
        "####### Main #######\n",
        "\n",
        "# Prepare DataFrame for relative differences\n",
        "RelDifference_for_decoupling = Data_for_decoupling.loc[Data_for_decoupling.Year > Reference_Year, ['countries', 'Year']]\n",
        "\n",
        "# Calculate relative differences\n",
        "for column in Data_for_decoupling.columns[2:]:\n",
        "    RelDifference_for_decoupling = Relative_Difference(column, RelDifference_for_decoupling, Data_for_decoupling, Reference_Year)\n",
        "\n",
        "# Prepare DataFrame for intensity factor decoupling\n",
        "Decoupling_IntensityFactor = RelDifference_for_decoupling.loc[:, ['countries', 'Year']]\n",
        "\n",
        "# Calculate intensity factor decoupling\n",
        "for column in RelDifference_for_decoupling.columns[2:]:\n",
        "    Decoupling_IntensityFactor = IntensityFactorDecoupling(column, 'GDP', Decoupling_IntensityFactor, RelDifference_for_decoupling)\n",
        "    Decoupling_IntensityFactor = IntensityFactorDecoupling(column, 'Population', Decoupling_IntensityFactor, RelDifference_for_decoupling)"
      ],
      "metadata": {
        "id": "xcgZhAZg_6GB"
      },
      "execution_count": null,
      "outputs": []
    },
    {
      "cell_type": "code",
      "source": [
        "list(Decoupling_IntensityFactor)"
      ],
      "metadata": {
        "colab": {
          "base_uri": "https://localhost:8080/"
        },
        "id": "VSGdmafiMHlu",
        "outputId": "c0d9cf01-2ecd-471e-ac18-69026aa4c68a"
      },
      "execution_count": null,
      "outputs": [
        {
          "output_type": "execute_result",
          "data": {
            "text/plain": [
              "['countries',\n",
              " 'Year',\n",
              " 'Territorial GHG emissions_GDP',\n",
              " 'Territorial GHG emissions_Population',\n",
              " 'Residential GHG emissions_GDP',\n",
              " 'Residential GHG emissions_Population',\n",
              " 'Transfer GHG emissions_GDP',\n",
              " 'Transfer GHG emissions_Population',\n",
              " 'Footprint GHG emissions_GDP',\n",
              " 'Footprint GHG emissions_Population',\n",
              " 'As_GDP',\n",
              " 'As_Population',\n",
              " 'Pb_GDP',\n",
              " 'Pb_Population',\n",
              " 'NOx_GDP',\n",
              " 'NOx_Population',\n",
              " 'SOx_GDP',\n",
              " 'SOx_Population',\n",
              " 'NH3_GDP',\n",
              " 'NH3_Population',\n",
              " 'PM2.5_GDP',\n",
              " 'PM2.5_Population',\n",
              " 'PM10_GDP',\n",
              " 'PM10_Population',\n",
              " 'NMVOC_GDP',\n",
              " 'NMVOC_Population',\n",
              " 'Cd_GDP',\n",
              " 'Cd_Population',\n",
              " 'Hg_GDP',\n",
              " 'Hg_Population',\n",
              " 'Cr_GDP',\n",
              " 'Cr_Population',\n",
              " 'Ni_GDP',\n",
              " 'Ni_Population',\n",
              " 'GHG: Territorial & Low scenario_GDP',\n",
              " 'GHG: Territorial & Low scenario_Population',\n",
              " 'GHG: Territorial & Central scenario_GDP',\n",
              " 'GHG: Territorial & Central scenario_Population',\n",
              " 'GHG: Territorial & High scenario_GDP',\n",
              " 'GHG: Territorial & High scenario_Population',\n",
              " 'GHG: Residential & Low scenario_GDP',\n",
              " 'GHG: Residential & Low scenario_Population',\n",
              " 'GHG: Residential & Central scenario_GDP',\n",
              " 'GHG: Residential & Central scenario_Population',\n",
              " 'GHG: Residential & High scenario_GDP',\n",
              " 'GHG: Residential & High scenario_Population',\n",
              " 'GHG: Footprint & Low scenario_GDP',\n",
              " 'GHG: Footprint & Low scenario_Population',\n",
              " 'GHG: Footprint & Central scenario_GDP',\n",
              " 'GHG: Footprint & Central scenario_Population',\n",
              " 'GHG: Footprint & High scenario_GDP',\n",
              " 'GHG: Footprint & High scenario_Population',\n",
              " 'Nox (Health - VOLY)_GDP',\n",
              " 'Nox (Health - VOLY)_Population',\n",
              " 'Nox (Health - VSL)_GDP',\n",
              " 'Nox (Health - VSL)_Population',\n",
              " 'Nox (Crops, Forests, Buildings & Ecosystems)_GDP',\n",
              " 'Nox (Crops, Forests, Buildings & Ecosystems)_Population',\n",
              " 'Nox (Crops)_GDP',\n",
              " 'Nox (Crops)_Population',\n",
              " 'Nox (Forests)_GDP',\n",
              " 'Nox (Forests)_Population',\n",
              " 'Nox (Buildings)_GDP',\n",
              " 'Nox (Buildings)_Population',\n",
              " 'Nox (Ecosystems)_GDP',\n",
              " 'Nox (Ecosystems)_Population',\n",
              " 'Nox (Total - VOLY)_GDP',\n",
              " 'Nox (Total - VOLY)_Population',\n",
              " 'Nox (Total - VSL)_GDP',\n",
              " 'Nox (Total - VSL)_Population',\n",
              " 'PM2.5 (Health - VOLY)_GDP',\n",
              " 'PM2.5 (Health - VOLY)_Population',\n",
              " 'PM2.5 (Health - VSL)_GDP',\n",
              " 'PM2.5 (Health - VSL)_Population',\n",
              " 'PM10 (Health - VOLY)_GDP',\n",
              " 'PM10 (Health - VOLY)_Population',\n",
              " 'PM10 (Health - VSL)_GDP',\n",
              " 'PM10 (Health - VSL)_Population',\n",
              " 'SOx (Health - VOLY)_GDP',\n",
              " 'SOx (Health - VOLY)_Population',\n",
              " 'SOx (Health - VSL)_GDP',\n",
              " 'SOx (Health - VSL)_Population',\n",
              " 'SOx (Buildings)_GDP',\n",
              " 'SOx (Buildings)_Population',\n",
              " 'SOx (Total - VOLY)_GDP',\n",
              " 'SOx (Total - VOLY)_Population',\n",
              " 'SOx (Total - VSL)_GDP',\n",
              " 'SOx (Total - VSL)_Population',\n",
              " 'NMVOC (Health - VOLY)_GDP',\n",
              " 'NMVOC (Health - VOLY)_Population',\n",
              " 'NMVOC (Health - VSL)_GDP',\n",
              " 'NMVOC (Health - VSL)_Population',\n",
              " 'NMVOC (Forests & Crops)_GDP',\n",
              " 'NMVOC (Forests & Crops)_Population',\n",
              " 'NMVOC (Forests)_GDP',\n",
              " 'NMVOC (Forests)_Population',\n",
              " 'NMVOC (Crops)_GDP',\n",
              " 'NMVOC (Crops)_Population',\n",
              " 'NMVOC (Total - VOLY)_GDP',\n",
              " 'NMVOC (Total - VOLY)_Population',\n",
              " 'NMVOC (Total - VSL)_GDP',\n",
              " 'NMVOC (Total - VSL)_Population',\n",
              " 'NH3 (Health - VOLY)_GDP',\n",
              " 'NH3 (Health - VOLY)_Population',\n",
              " 'NH3 (Health - VSL)_GDP',\n",
              " 'NH3 (Health - VSL)_Population',\n",
              " 'NH3 (Ecosystems)_GDP',\n",
              " 'NH3 (Ecosystems)_Population',\n",
              " 'NH3 (Total - VOLY)_GDP',\n",
              " 'NH3 (Total - VOLY)_Population',\n",
              " 'NH3 (Total - VSL)_GDP',\n",
              " 'NH3 (Total - VSL)_Population',\n",
              " 'Pb (Total)_GDP',\n",
              " 'Pb (Total)_Population',\n",
              " 'Hg (Total)_GDP',\n",
              " 'Hg (Total)_Population',\n",
              " 'Cd (Total)_GDP',\n",
              " 'Cd (Total)_Population',\n",
              " 'As (Total)_GDP',\n",
              " 'As (Total)_Population',\n",
              " 'Ni (Total)_GDP',\n",
              " 'Ni (Total)_Population',\n",
              " 'Cr (Total)_GDP',\n",
              " 'Cr (Total)_Population',\n",
              " 'Health - VOLY (Total)_GDP',\n",
              " 'Health - VOLY (Total)_Population',\n",
              " 'Health - VSL (Total)_GDP',\n",
              " 'Health - VSL (Total)_Population',\n",
              " 'Crops (Total)_GDP',\n",
              " 'Crops (Total)_Population',\n",
              " 'Forests (Total)_GDP',\n",
              " 'Forests (Total)_Population',\n",
              " 'Buildings (Total)_GDP',\n",
              " 'Buildings (Total)_Population',\n",
              " 'Ecosystems (Total)_GDP',\n",
              " 'Ecosystems (Total)_Population',\n",
              " 'Air Pollutants - VOLY_GDP',\n",
              " 'Air Pollutants - VOLY_Population',\n",
              " 'Air Pollutants - VSL_GDP',\n",
              " 'Air Pollutants - VSL_Population',\n",
              " 'Heavy Metals (Total)_GDP',\n",
              " 'Heavy Metals (Total)_Population',\n",
              " 'External costs (Territorial & Low GHG with VOLY) scenario_GDP',\n",
              " 'External costs (Territorial & Low GHG with VOLY) scenario_Population',\n",
              " 'External costs (Territorial & Low GHG with VSL) scenario_GDP',\n",
              " 'External costs (Territorial & Low GHG with VSL) scenario_Population',\n",
              " 'External costs (Territorial & Central GHG with VOLY) scenario_GDP',\n",
              " 'External costs (Territorial & Central GHG with VOLY) scenario_Population',\n",
              " 'External costs (Territorial & Central GHG with VSL) scenario_GDP',\n",
              " 'External costs (Territorial & Central GHG with VSL) scenario_Population',\n",
              " 'External costs (Territorial & High GHG with VOLY) scenario_GDP',\n",
              " 'External costs (Territorial & High GHG with VOLY) scenario_Population',\n",
              " 'External costs (Territorial & High GHG with VSL) scenario_GDP',\n",
              " 'External costs (Territorial & High GHG with VSL) scenario_Population',\n",
              " 'External costs (Residential & Low GHG with VOLY) scenario_GDP',\n",
              " 'External costs (Residential & Low GHG with VOLY) scenario_Population',\n",
              " 'External costs (Residential & Low GHG with VSL) scenario_GDP',\n",
              " 'External costs (Residential & Low GHG with VSL) scenario_Population',\n",
              " 'External costs (Residential & Central GHG with VOLY) scenario_GDP',\n",
              " 'External costs (Residential & Central GHG with VOLY) scenario_Population',\n",
              " 'External costs (Residential & Central GHG with VSL) scenario_GDP',\n",
              " 'External costs (Residential & Central GHG with VSL) scenario_Population',\n",
              " 'External costs (Residential & High GHG with VOLY) scenario_GDP',\n",
              " 'External costs (Residential & High GHG with VOLY) scenario_Population',\n",
              " 'External costs (Residential & High GHG with VSL) scenario_GDP',\n",
              " 'External costs (Residential & High GHG with VSL) scenario_Population',\n",
              " 'External costs (Footprint & Low GHG with VOLY) scenario_GDP',\n",
              " 'External costs (Footprint & Low GHG with VOLY) scenario_Population',\n",
              " 'External costs (Footprint & Low GHG with VSL) scenario_GDP',\n",
              " 'External costs (Footprint & Low GHG with VSL) scenario_Population',\n",
              " 'External costs (Footprint & Central GHG with VOLY) scenario_GDP',\n",
              " 'External costs (Footprint & Central GHG with VOLY) scenario_Population',\n",
              " 'External costs (Footprint & Central GHG with VSL) scenario_GDP',\n",
              " 'External costs (Footprint & Central GHG with VSL) scenario_Population',\n",
              " 'External costs (Footprint & High GHG with VOLY) scenario_GDP',\n",
              " 'External costs (Footprint & High GHG with VOLY) scenario_Population',\n",
              " 'External costs (Footprint & High GHG with VSL) scenario_GDP',\n",
              " 'External costs (Footprint & High GHG with VSL) scenario_Population',\n",
              " 'Proportion in % - External costs (Territorial & Low GHG with VOLY) scenario_GDP',\n",
              " 'Proportion in % - External costs (Territorial & Low GHG with VOLY) scenario_Population',\n",
              " 'Proportion in % - External costs (Territorial & Low GHG with VSL) scenario_GDP',\n",
              " 'Proportion in % - External costs (Territorial & Low GHG with VSL) scenario_Population',\n",
              " 'Proportion in % - External costs (Territorial & Central GHG with VOLY) scenario_GDP',\n",
              " 'Proportion in % - External costs (Territorial & Central GHG with VOLY) scenario_Population',\n",
              " 'Proportion in % - External costs (Territorial & Central GHG with VSL) scenario_GDP',\n",
              " 'Proportion in % - External costs (Territorial & Central GHG with VSL) scenario_Population',\n",
              " 'Proportion in % - External costs (Territorial & High GHG with VOLY) scenario_GDP',\n",
              " 'Proportion in % - External costs (Territorial & High GHG with VOLY) scenario_Population',\n",
              " 'Proportion in % - External costs (Territorial & High GHG with VSL) scenario_GDP',\n",
              " 'Proportion in % - External costs (Territorial & High GHG with VSL) scenario_Population',\n",
              " 'Proportion in % - External costs (Residential & Low GHG with VOLY) scenario_GDP',\n",
              " 'Proportion in % - External costs (Residential & Low GHG with VOLY) scenario_Population',\n",
              " 'Proportion in % - External costs (Residential & Low GHG with VSL) scenario_GDP',\n",
              " 'Proportion in % - External costs (Residential & Low GHG with VSL) scenario_Population',\n",
              " 'Proportion in % - External costs (Residential & Central GHG with VOLY) scenario_GDP',\n",
              " 'Proportion in % - External costs (Residential & Central GHG with VOLY) scenario_Population',\n",
              " 'Proportion in % - External costs (Residential & Central GHG with VSL) scenario_GDP',\n",
              " 'Proportion in % - External costs (Residential & Central GHG with VSL) scenario_Population',\n",
              " 'Proportion in % - External costs (Residential & High GHG with VOLY) scenario_GDP',\n",
              " 'Proportion in % - External costs (Residential & High GHG with VOLY) scenario_Population',\n",
              " 'Proportion in % - External costs (Residential & High GHG with VSL) scenario_GDP',\n",
              " 'Proportion in % - External costs (Residential & High GHG with VSL) scenario_Population',\n",
              " 'Proportion in % - External costs (Footprint & Low GHG with VOLY) scenario_GDP',\n",
              " 'Proportion in % - External costs (Footprint & Low GHG with VOLY) scenario_Population',\n",
              " 'Proportion in % - External costs (Footprint & Low GHG with VSL) scenario_GDP',\n",
              " 'Proportion in % - External costs (Footprint & Low GHG with VSL) scenario_Population',\n",
              " 'Proportion in % - External costs (Footprint & Central GHG with VOLY) scenario_GDP',\n",
              " 'Proportion in % - External costs (Footprint & Central GHG with VOLY) scenario_Population',\n",
              " 'Proportion in % - External costs (Footprint & Central GHG with VSL) scenario_GDP',\n",
              " 'Proportion in % - External costs (Footprint & Central GHG with VSL) scenario_Population',\n",
              " 'Proportion in % - External costs (Footprint & High GHG with VOLY) scenario_GDP',\n",
              " 'Proportion in % - External costs (Footprint & High GHG with VOLY) scenario_Population',\n",
              " 'Proportion in % - External costs (Footprint & High GHG with VSL) scenario_GDP',\n",
              " 'Proportion in % - External costs (Footprint & High GHG with VSL) scenario_Population',\n",
              " 'GDP_GDP',\n",
              " 'GDP_Population',\n",
              " 'Population_GDP',\n",
              " 'Population_Population',\n",
              " 'External costs per capita (Territorial & Low GHG with VOLY) scenario_GDP',\n",
              " 'External costs per capita (Territorial & Low GHG with VOLY) scenario_Population',\n",
              " 'External costs per capita (Territorial & Low GHG with VSL) scenario_GDP',\n",
              " 'External costs per capita (Territorial & Low GHG with VSL) scenario_Population',\n",
              " 'External costs per capita (Territorial & Central GHG with VOLY) scenario_GDP',\n",
              " 'External costs per capita (Territorial & Central GHG with VOLY) scenario_Population',\n",
              " 'External costs per capita (Territorial & Central GHG with VSL) scenario_GDP',\n",
              " 'External costs per capita (Territorial & Central GHG with VSL) scenario_Population',\n",
              " 'External costs per capita (Territorial & High GHG with VOLY) scenario_GDP',\n",
              " 'External costs per capita (Territorial & High GHG with VOLY) scenario_Population',\n",
              " 'External costs per capita (Territorial & High GHG with VSL) scenario_GDP',\n",
              " 'External costs per capita (Territorial & High GHG with VSL) scenario_Population',\n",
              " 'External costs per capita (Residential & Low GHG with VOLY) scenario_GDP',\n",
              " 'External costs per capita (Residential & Low GHG with VOLY) scenario_Population',\n",
              " 'External costs per capita (Residential & Low GHG with VSL) scenario_GDP',\n",
              " 'External costs per capita (Residential & Low GHG with VSL) scenario_Population',\n",
              " 'External costs per capita (Residential & Central GHG with VOLY) scenario_GDP',\n",
              " 'External costs per capita (Residential & Central GHG with VOLY) scenario_Population',\n",
              " 'External costs per capita (Residential & Central GHG with VSL) scenario_GDP',\n",
              " 'External costs per capita (Residential & Central GHG with VSL) scenario_Population',\n",
              " 'External costs per capita (Residential & High GHG with VOLY) scenario_GDP',\n",
              " 'External costs per capita (Residential & High GHG with VOLY) scenario_Population',\n",
              " 'External costs per capita (Residential & High GHG with VSL) scenario_GDP',\n",
              " 'External costs per capita (Residential & High GHG with VSL) scenario_Population',\n",
              " 'External costs per capita (Footprint & Low GHG with VOLY) scenario_GDP',\n",
              " 'External costs per capita (Footprint & Low GHG with VOLY) scenario_Population',\n",
              " 'External costs per capita (Footprint & Low GHG with VSL) scenario_GDP',\n",
              " 'External costs per capita (Footprint & Low GHG with VSL) scenario_Population',\n",
              " 'External costs per capita (Footprint & Central GHG with VOLY) scenario_GDP',\n",
              " 'External costs per capita (Footprint & Central GHG with VOLY) scenario_Population',\n",
              " 'External costs per capita (Footprint & Central GHG with VSL) scenario_GDP',\n",
              " 'External costs per capita (Footprint & Central GHG with VSL) scenario_Population',\n",
              " 'External costs per capita (Footprint & High GHG with VOLY) scenario_GDP',\n",
              " 'External costs per capita (Footprint & High GHG with VOLY) scenario_Population',\n",
              " 'External costs per capita (Footprint & High GHG with VSL) scenario_GDP',\n",
              " 'External costs per capita (Footprint & High GHG with VSL) scenario_Population',\n",
              " '(Territorial & Low GHG with VOLY) scenario_GDP',\n",
              " '(Territorial & Low GHG with VOLY) scenario_Population',\n",
              " '(Territorial & Low GHG with VSL) scenario_GDP',\n",
              " '(Territorial & Low GHG with VSL) scenario_Population',\n",
              " '(Territorial & Central GHG with VOLY) scenario_GDP',\n",
              " '(Territorial & Central GHG with VOLY) scenario_Population',\n",
              " '(Territorial & Central GHG with VSL) scenario_GDP',\n",
              " '(Territorial & Central GHG with VSL) scenario_Population',\n",
              " '(Territorial & High GHG with VOLY) scenario_GDP',\n",
              " '(Territorial & High GHG with VOLY) scenario_Population',\n",
              " '(Territorial & High GHG with VSL) scenario_GDP',\n",
              " '(Territorial & High GHG with VSL) scenario_Population',\n",
              " '(Residential & Low GHG with VOLY) scenario_GDP',\n",
              " '(Residential & Low GHG with VOLY) scenario_Population',\n",
              " '(Residential & Low GHG with VSL) scenario_GDP',\n",
              " '(Residential & Low GHG with VSL) scenario_Population',\n",
              " '(Residential & Central GHG with VOLY) scenario_GDP',\n",
              " '(Residential & Central GHG with VOLY) scenario_Population',\n",
              " '(Residential & Central GHG with VSL) scenario_GDP',\n",
              " '(Residential & Central GHG with VSL) scenario_Population',\n",
              " '(Residential & High GHG with VOLY) scenario_GDP',\n",
              " '(Residential & High GHG with VOLY) scenario_Population',\n",
              " '(Residential & High GHG with VSL) scenario_GDP',\n",
              " '(Residential & High GHG with VSL) scenario_Population',\n",
              " '(Footprint & Low GHG with VOLY) scenario_GDP',\n",
              " '(Footprint & Low GHG with VOLY) scenario_Population',\n",
              " '(Footprint & Low GHG with VSL) scenario_GDP',\n",
              " '(Footprint & Low GHG with VSL) scenario_Population',\n",
              " '(Footprint & Central GHG with VOLY) scenario_GDP',\n",
              " '(Footprint & Central GHG with VOLY) scenario_Population',\n",
              " '(Footprint & Central GHG with VSL) scenario_GDP',\n",
              " '(Footprint & Central GHG with VSL) scenario_Population',\n",
              " '(Footprint & High GHG with VOLY) scenario_GDP',\n",
              " '(Footprint & High GHG with VOLY) scenario_Population',\n",
              " '(Footprint & High GHG with VSL) scenario_GDP',\n",
              " '(Footprint & High GHG with VSL) scenario_Population',\n",
              " 'Heavy Metals Emissions_GDP',\n",
              " 'Heavy Metals Emissions_Population',\n",
              " 'Air Pollutants Emissions_GDP',\n",
              " 'Air Pollutants Emissions_Population']"
            ]
          },
          "metadata": {},
          "execution_count": 31
        }
      ]
    },
    {
      "cell_type": "code",
      "source": [
        "list(RelDifference_for_decoupling.columns)"
      ],
      "metadata": {
        "colab": {
          "base_uri": "https://localhost:8080/"
        },
        "id": "XvXWewwqcH8w",
        "outputId": "6f4bcd8a-fe3c-4649-a5a6-0d2679859494"
      },
      "execution_count": null,
      "outputs": [
        {
          "output_type": "execute_result",
          "data": {
            "text/plain": [
              "['countries',\n",
              " 'Year',\n",
              " 'Territorial GHG emissions',\n",
              " 'Residential GHG emissions',\n",
              " 'Transfer GHG emissions',\n",
              " 'Footprint GHG emissions',\n",
              " 'As',\n",
              " 'Pb',\n",
              " 'NOx',\n",
              " 'SOx',\n",
              " 'NH3',\n",
              " 'PM2.5',\n",
              " 'PM10',\n",
              " 'NMVOC',\n",
              " 'Cd',\n",
              " 'Hg',\n",
              " 'Cr',\n",
              " 'Ni',\n",
              " 'GHG: Territorial & Low scenario',\n",
              " 'GHG: Territorial & Central scenario',\n",
              " 'GHG: Territorial & High scenario',\n",
              " 'GHG: Residential & Low scenario',\n",
              " 'GHG: Residential & Central scenario',\n",
              " 'GHG: Residential & High scenario',\n",
              " 'GHG: Footprint & Low scenario',\n",
              " 'GHG: Footprint & Central scenario',\n",
              " 'GHG: Footprint & High scenario',\n",
              " 'Nox (Health - VOLY)',\n",
              " 'Nox (Health - VSL)',\n",
              " 'Nox (Crops, Forests, Buildings & Ecosystems)',\n",
              " 'Nox (Crops)',\n",
              " 'Nox (Forests)',\n",
              " 'Nox (Buildings)',\n",
              " 'Nox (Ecosystems)',\n",
              " 'Nox (Total - VOLY)',\n",
              " 'Nox (Total - VSL)',\n",
              " 'PM2.5 (Health - VOLY)',\n",
              " 'PM2.5 (Health - VSL)',\n",
              " 'PM10 (Health - VOLY)',\n",
              " 'PM10 (Health - VSL)',\n",
              " 'SOx (Health - VOLY)',\n",
              " 'SOx (Health - VSL)',\n",
              " 'SOx (Buildings)',\n",
              " 'SOx (Total - VOLY)',\n",
              " 'SOx (Total - VSL)',\n",
              " 'NMVOC (Health - VOLY)',\n",
              " 'NMVOC (Health - VSL)',\n",
              " 'NMVOC (Forests & Crops)',\n",
              " 'NMVOC (Forests)',\n",
              " 'NMVOC (Crops)',\n",
              " 'NMVOC (Total - VOLY)',\n",
              " 'NMVOC (Total - VSL)',\n",
              " 'NH3 (Health - VOLY)',\n",
              " 'NH3 (Health - VSL)',\n",
              " 'NH3 (Ecosystems)',\n",
              " 'NH3 (Total - VOLY)',\n",
              " 'NH3 (Total - VSL)',\n",
              " 'Pb (Total)',\n",
              " 'Hg (Total)',\n",
              " 'Cd (Total)',\n",
              " 'As (Total)',\n",
              " 'Ni (Total)',\n",
              " 'Cr (Total)',\n",
              " 'Health - VOLY (Total)',\n",
              " 'Health - VSL (Total)',\n",
              " 'Crops (Total)',\n",
              " 'Forests (Total)',\n",
              " 'Buildings (Total)',\n",
              " 'Ecosystems (Total)',\n",
              " 'Air Pollutants - VOLY',\n",
              " 'Air Pollutants - VSL',\n",
              " 'Heavy Metals (Total)',\n",
              " 'External costs (Territorial & Low GHG with VOLY) scenario',\n",
              " 'External costs (Territorial & Low GHG with VSL) scenario',\n",
              " 'External costs (Territorial & Central GHG with VOLY) scenario',\n",
              " 'External costs (Territorial & Central GHG with VSL) scenario',\n",
              " 'External costs (Territorial & High GHG with VOLY) scenario',\n",
              " 'External costs (Territorial & High GHG with VSL) scenario',\n",
              " 'External costs (Residential & Low GHG with VOLY) scenario',\n",
              " 'External costs (Residential & Low GHG with VSL) scenario',\n",
              " 'External costs (Residential & Central GHG with VOLY) scenario',\n",
              " 'External costs (Residential & Central GHG with VSL) scenario',\n",
              " 'External costs (Residential & High GHG with VOLY) scenario',\n",
              " 'External costs (Residential & High GHG with VSL) scenario',\n",
              " 'External costs (Footprint & Low GHG with VOLY) scenario',\n",
              " 'External costs (Footprint & Low GHG with VSL) scenario',\n",
              " 'External costs (Footprint & Central GHG with VOLY) scenario',\n",
              " 'External costs (Footprint & Central GHG with VSL) scenario',\n",
              " 'External costs (Footprint & High GHG with VOLY) scenario',\n",
              " 'External costs (Footprint & High GHG with VSL) scenario',\n",
              " 'Proportion in % - External costs (Territorial & Low GHG with VOLY) scenario',\n",
              " 'Proportion in % - External costs (Territorial & Low GHG with VSL) scenario',\n",
              " 'Proportion in % - External costs (Territorial & Central GHG with VOLY) scenario',\n",
              " 'Proportion in % - External costs (Territorial & Central GHG with VSL) scenario',\n",
              " 'Proportion in % - External costs (Territorial & High GHG with VOLY) scenario',\n",
              " 'Proportion in % - External costs (Territorial & High GHG with VSL) scenario',\n",
              " 'Proportion in % - External costs (Residential & Low GHG with VOLY) scenario',\n",
              " 'Proportion in % - External costs (Residential & Low GHG with VSL) scenario',\n",
              " 'Proportion in % - External costs (Residential & Central GHG with VOLY) scenario',\n",
              " 'Proportion in % - External costs (Residential & Central GHG with VSL) scenario',\n",
              " 'Proportion in % - External costs (Residential & High GHG with VOLY) scenario',\n",
              " 'Proportion in % - External costs (Residential & High GHG with VSL) scenario',\n",
              " 'Proportion in % - External costs (Footprint & Low GHG with VOLY) scenario',\n",
              " 'Proportion in % - External costs (Footprint & Low GHG with VSL) scenario',\n",
              " 'Proportion in % - External costs (Footprint & Central GHG with VOLY) scenario',\n",
              " 'Proportion in % - External costs (Footprint & Central GHG with VSL) scenario',\n",
              " 'Proportion in % - External costs (Footprint & High GHG with VOLY) scenario',\n",
              " 'Proportion in % - External costs (Footprint & High GHG with VSL) scenario',\n",
              " 'GDP',\n",
              " 'Population',\n",
              " 'External costs per capita (Territorial & Low GHG with VOLY) scenario',\n",
              " 'External costs per capita (Territorial & Low GHG with VSL) scenario',\n",
              " 'External costs per capita (Territorial & Central GHG with VOLY) scenario',\n",
              " 'External costs per capita (Territorial & Central GHG with VSL) scenario',\n",
              " 'External costs per capita (Territorial & High GHG with VOLY) scenario',\n",
              " 'External costs per capita (Territorial & High GHG with VSL) scenario',\n",
              " 'External costs per capita (Residential & Low GHG with VOLY) scenario',\n",
              " 'External costs per capita (Residential & Low GHG with VSL) scenario',\n",
              " 'External costs per capita (Residential & Central GHG with VOLY) scenario',\n",
              " 'External costs per capita (Residential & Central GHG with VSL) scenario',\n",
              " 'External costs per capita (Residential & High GHG with VOLY) scenario',\n",
              " 'External costs per capita (Residential & High GHG with VSL) scenario',\n",
              " 'External costs per capita (Footprint & Low GHG with VOLY) scenario',\n",
              " 'External costs per capita (Footprint & Low GHG with VSL) scenario',\n",
              " 'External costs per capita (Footprint & Central GHG with VOLY) scenario',\n",
              " 'External costs per capita (Footprint & Central GHG with VSL) scenario',\n",
              " 'External costs per capita (Footprint & High GHG with VOLY) scenario',\n",
              " 'External costs per capita (Footprint & High GHG with VSL) scenario',\n",
              " '(Territorial & Low GHG with VOLY) scenario',\n",
              " '(Territorial & Low GHG with VSL) scenario',\n",
              " '(Territorial & Central GHG with VOLY) scenario',\n",
              " '(Territorial & Central GHG with VSL) scenario',\n",
              " '(Territorial & High GHG with VOLY) scenario',\n",
              " '(Territorial & High GHG with VSL) scenario',\n",
              " '(Residential & Low GHG with VOLY) scenario',\n",
              " '(Residential & Low GHG with VSL) scenario',\n",
              " '(Residential & Central GHG with VOLY) scenario',\n",
              " '(Residential & Central GHG with VSL) scenario',\n",
              " '(Residential & High GHG with VOLY) scenario',\n",
              " '(Residential & High GHG with VSL) scenario',\n",
              " '(Footprint & Low GHG with VOLY) scenario',\n",
              " '(Footprint & Low GHG with VSL) scenario',\n",
              " '(Footprint & Central GHG with VOLY) scenario',\n",
              " '(Footprint & Central GHG with VSL) scenario',\n",
              " '(Footprint & High GHG with VOLY) scenario',\n",
              " '(Footprint & High GHG with VSL) scenario',\n",
              " 'Heavy Metals Emissions',\n",
              " 'Air Pollutants Emissions']"
            ]
          },
          "metadata": {},
          "execution_count": 34
        }
      ]
    },
    {
      "cell_type": "markdown",
      "source": [
        "# Downloading the datasets"
      ],
      "metadata": {
        "id": "hBezU7TmH1Ew"
      }
    },
    {
      "cell_type": "code",
      "source": [
        "Emissions.to_csv('Emissions.csv', index=False)\n",
        "External_costs.to_csv('ExternalCosts.csv', index=False)\n",
        "GrDP.to_csv('GrDP.csv', index=False)\n",
        "Decoupling_OECD.to_csv('Decoupling_OECD_Indicator.csv', index=False)\n",
        "Decoupling_IntensityFactor.to_csv('Decoupling_Intensity_Factor.csv', index=False)\n",
        "RelDifference_for_decoupling.to_csv('Decoupling_Relative_Difference.csv', index=False)"
      ],
      "metadata": {
        "id": "S4eKbUW3H3mh"
      },
      "execution_count": null,
      "outputs": []
    }
  ]
}